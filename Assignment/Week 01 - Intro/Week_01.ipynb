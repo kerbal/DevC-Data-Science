{
  "nbformat": 4,
  "nbformat_minor": 0,
  "metadata": {
    "colab": {
      "name": "Week 01.ipynb",
      "provenance": [],
      "collapsed_sections": [
        "0AxyfiJijJ7T",
        "yCr0rjMlfWAX",
        "wymfeCiZjx3-",
        "BsNGBl-rkUWq",
        "VDu4Hj9plyn6",
        "31J0Do7PmEU8"
      ]
    },
    "kernelspec": {
      "display_name": "Python 3",
      "language": "python",
      "name": "python3"
    },
    "language_info": {
      "codemirror_mode": {
        "name": "ipython",
        "version": 3
      },
      "file_extension": ".py",
      "mimetype": "text/x-python",
      "name": "python",
      "nbconvert_exporter": "python",
      "pygments_lexer": "ipython3",
      "version": "3.7.3"
    }
  },
  "cells": [
    {
      "cell_type": "markdown",
      "metadata": {
        "colab_type": "text",
        "id": "jjZG7BNlbWtO"
      },
      "source": [
        "![](https://i.imgur.com/0AUxkXt.png)"
      ]
    },
    {
      "cell_type": "markdown",
      "metadata": {
        "colab_type": "text",
        "id": "jbpQzyjqbflM"
      },
      "source": [
        "# Assignment 1 - The Hacker Rank\n",
        "\n",
        "HackerRank is a place where programmers from all over the world come together to solve problems in a wide range of Computer Science domains.\n",
        "\n",
        "As you solve more challenges, you earn points and move up the HackerRank Leaderboard.\n",
        "\n",
        "Looking for a job at an awesome company? You can get hired by solving [challenges](https://www.hackerrank.com/jobs/search)!\n",
        "\n",
        "It's cool. Let's establish your knowledge and fight for glory!\n",
        "\n",
        "But before that let's make it clear that.."
      ]
    },
    {
      "cell_type": "markdown",
      "metadata": {
        "colab_type": "text",
        "id": "-ndmD4naciAN"
      },
      "source": [
        "## Note-taking is IMPORTANT\n",
        "\n",
        "Blog: [Why is note-taking important](https://nickblackbourn.com/blog/why-is-note-taking-important/)\n",
        "\n",
        "Note taking isn’t just important for college students, it’s a valuable life skill.\n",
        "\n",
        "Effective note taking helps you to remember information and aids your understanding of that information. \n",
        "\n",
        "**Notes boost your understanding**\n",
        "\n",
        "By making notes, you force yourself to construct a conceptual mental representation of the ideas you are grappling with. It is this process that helps you comprehend the subject matter you are working with.\n",
        "\n",
        "**Notes are a repository of your thinking**\n",
        "\n",
        "When you need to recall something that you came across a while ago, you can go over the main ideas by looking over your notes. This is why good, comprehensive notes are so useful; they are a catalogue of the best ideas you’ve encountered, and what you thought about them.\n",
        "\n",
        "etc.\n",
        "\n",
        "\n",
        "\n",
        "\n",
        "\n",
        "\n",
        "\n"
      ]
    },
    {
      "cell_type": "markdown",
      "metadata": {
        "colab_type": "text",
        "id": "IGvKPsdVfX-F"
      },
      "source": [
        "## Requirements\n",
        "\n",
        "Pick 10 challenges on HackerRank about SQL and 5 about Python in **easy** level:\n",
        "\n",
        "[HackerRank - Domain SQL](https://www.hackerrank.com/domains/sql?filters%5Bdifficulty%5D%5B%5D=easy&filters%5Bsubdomains%5D%5B%5D=select)\n",
        "\n",
        "[HackerRank - Domain Python](https://www.hackerrank.com/domains/python?filters%5Bdifficulty%5D%5B%5D=easy)\n",
        "\n",
        "For each challenge:\n",
        "\n",
        "* Create a markdown cell first that describes the challenge.\n",
        "* Solve the challenge on HackerRank and copy your solution to a code cell below\n",
        "* (Optional) A short description about how you came up with the solution would be awesome."
      ]
    },
    {
      "cell_type": "markdown",
      "metadata": {
        "colab_type": "text",
        "id": "higGK1Y5iAea"
      },
      "source": [
        "## Example"
      ]
    },
    {
      "cell_type": "markdown",
      "metadata": {
        "colab_type": "text",
        "id": "D2yU2FYDi4tj"
      },
      "source": [
        "### SQL"
      ]
    },
    {
      "cell_type": "markdown",
      "metadata": {
        "colab_type": "text",
        "id": "gu4DDH7Ki77C"
      },
      "source": [
        "\n",
        "#### Problem 1\n",
        "\n",
        "Query all columns for all American cities in **CITY** with populations larger than 100000. The CountryCode for America is USA.\n",
        "\n",
        "**Input Format**\n",
        "\n",
        "The **CITY** table is described as follows:\n",
        "\n",
        "| Field | Type |\n",
        "|:----:|:---:|\n",
        "| ID | NUMBER |\n",
        "| NAME | VARCHAR2(17) |\n",
        "| COUNTRYCODE | VARCHAR2(3) |\n",
        "| DISTRICT | VARCHAR2(20) |\n",
        "| POPULATION | NUMBER |"
      ]
    },
    {
      "cell_type": "code",
      "metadata": {
        "colab_type": "code",
        "id": "hhAwMjyhbT1b",
        "colab": {}
      },
      "source": [
        "# Solution\n",
        "# SELECT * from city WHERE population>100000 AND countrycode='USA';"
      ],
      "execution_count": 0,
      "outputs": []
    },
    {
      "cell_type": "markdown",
      "metadata": {
        "colab_type": "text",
        "id": "0AxyfiJijJ7T"
      },
      "source": [
        "### Python"
      ]
    },
    {
      "cell_type": "markdown",
      "metadata": {
        "colab_type": "text",
        "id": "PEW8LsB5jLqf"
      },
      "source": [
        "#### Problem 1\n",
        "\n",
        "**Task** \n",
        "Given an integer, , perform the following conditional actions:\n",
        "\n",
        "* If `n` is odd, print *Weird*\n",
        "* If `n` is even and in the inclusive range of 2 to 5, print *Not Weird*\n",
        "* If `n` is even and in the inclusive range of 6 to 20, print *Weird*\n",
        "* If `n` is even and greater than 20, print *Not Weird*\n",
        "\n",
        "**Input Format**\n",
        "\n",
        "A single line containing a positive integer, .\n",
        "\n",
        "**Output Format**\n",
        "\n",
        "Print Weird if the number is weird; otherwise, print Not Weird."
      ]
    },
    {
      "cell_type": "code",
      "metadata": {
        "colab_type": "code",
        "id": "JBOxgw0zjLC2",
        "colab": {}
      },
      "source": [
        "n = int(input())\n",
        "\n",
        "if n % 2 == 1:\n",
        "    print('Weird')\n",
        "else:\n",
        "    if (n >= 2) and (n <= 5):\n",
        "        print('Not Weird')\n",
        "    elif (n >= 6) and (n <= 20):\n",
        "        print('Weird')\n",
        "    else:\n",
        "        print('Not Weird')"
      ],
      "execution_count": 0,
      "outputs": []
    },
    {
      "cell_type": "markdown",
      "metadata": {
        "colab_type": "text",
        "id": "a-Q3VE7YkA9A"
      },
      "source": [
        "## Your turn\n",
        "\n",
        "Good luck and have fun!"
      ]
    },
    {
      "cell_type": "markdown",
      "metadata": {
        "id": "yCr0rjMlfWAX",
        "colab_type": "text"
      },
      "source": [
        "# SQL"
      ]
    },
    {
      "cell_type": "markdown",
      "metadata": {
        "id": "-G5xN1VLeMX3",
        "colab_type": "text"
      },
      "source": [
        "Query all columns for all American **cities** in CITY with populations larger than 100000. The CountryCode for America is USA.\n",
        "\n",
        "**Input Format**\n",
        "\n",
        "![Input format](https://s3.amazonaws.com/hr-challenge-images/8137/1449729804-f21d187d0f-CITY.jpg)"
      ]
    },
    {
      "cell_type": "code",
      "metadata": {
        "colab_type": "code",
        "id": "RdkdZgjaj0To",
        "colab": {}
      },
      "source": [
        "SELECT *\n",
        "FROM CITY\n",
        "WHERE (POPULATION > 100000 AND COUNTRYCODE = 'USA')"
      ],
      "execution_count": 0,
      "outputs": []
    },
    {
      "cell_type": "markdown",
      "metadata": {
        "id": "A2NR0vK-emHK",
        "colab_type": "text"
      },
      "source": [
        "Query the names of all American cities in **CITY** with populations larger than 120000. The CountryCode for America is USA.\n",
        "\n",
        "**Input Format**\n",
        "\n",
        "![Input format](https://s3.amazonaws.com/hr-challenge-images/8137/1449729804-f21d187d0f-CITY.jpg)"
      ]
    },
    {
      "cell_type": "code",
      "metadata": {
        "id": "34tgBUgJe3bo",
        "colab_type": "code",
        "colab": {}
      },
      "source": [
        "SELECT NAME\n",
        "FROM CITY\n",
        "WHERE POPULATION > 120000 AND COUNTRYCODE = 'USA'"
      ],
      "execution_count": 0,
      "outputs": []
    },
    {
      "cell_type": "markdown",
      "metadata": {
        "id": "tGkAOLVLe8A0",
        "colab_type": "text"
      },
      "source": [
        "Query all columns (attributes) for every row in the **CITY** table.\n",
        "\n",
        "**Input Format**\n",
        "\n",
        "![Input format](https://s3.amazonaws.com/hr-challenge-images/8137/1449729804-f21d187d0f-CITY.jpg)"
      ]
    },
    {
      "cell_type": "code",
      "metadata": {
        "id": "xa-lI3SJfwpj",
        "colab_type": "code",
        "colab": {}
      },
      "source": [
        "SELECT *\n",
        "FROM CITY"
      ],
      "execution_count": 0,
      "outputs": []
    },
    {
      "cell_type": "markdown",
      "metadata": {
        "id": "wQOQ3i9Ff_87",
        "colab_type": "text"
      },
      "source": [
        "Query all columns for a city in **CITY** with the ***ID 1661***.\n",
        "\n",
        "**Input Format**\n",
        "\n",
        "![Input format](https://s3.amazonaws.com/hr-challenge-images/8137/1449729804-f21d187d0f-CITY.jpg)"
      ]
    },
    {
      "cell_type": "code",
      "metadata": {
        "id": "ZbR7P5XYgLje",
        "colab_type": "code",
        "colab": {}
      },
      "source": [
        "SELECT *\n",
        "FROM CITY\n",
        "WHERE ID = 1661"
      ],
      "execution_count": 0,
      "outputs": []
    },
    {
      "cell_type": "markdown",
      "metadata": {
        "id": "tDYThpiXgOC-",
        "colab_type": "text"
      },
      "source": [
        "Query all attributes of every Japanese city in the **CITY** table. The COUNTRYCODE for Japan is JPN.\n",
        "\n",
        "**Input Format**\n",
        "\n",
        "![Input format](https://s3.amazonaws.com/hr-challenge-images/8137/1449729804-f21d187d0f-CITY.jpg)"
      ]
    },
    {
      "cell_type": "code",
      "metadata": {
        "id": "T9T9v2bhg3bL",
        "colab_type": "code",
        "colab": {}
      },
      "source": [
        "SELECT *\n",
        "FROM CITY\n",
        "WHERE COUNTRYCODE = 'JPN'"
      ],
      "execution_count": 0,
      "outputs": []
    },
    {
      "cell_type": "markdown",
      "metadata": {
        "id": "DT8uPzbUg6rN",
        "colab_type": "text"
      },
      "source": [
        "Query the names of all the Japanese cities in the **CITY** table. The COUNTRYCODE for Japan is JPN.\n",
        "\n",
        "**Input Format**\n",
        "\n",
        "![Input format](https://s3.amazonaws.com/hr-challenge-images/8137/1449729804-f21d187d0f-CITY.jpg)"
      ]
    },
    {
      "cell_type": "code",
      "metadata": {
        "id": "l_eKfkjGhh_i",
        "colab_type": "code",
        "colab": {}
      },
      "source": [
        "SELECT NAME\n",
        "FROM CITY\n",
        "WHERE COUNTRYCODE = \"JPN\""
      ],
      "execution_count": 0,
      "outputs": []
    },
    {
      "cell_type": "markdown",
      "metadata": {
        "id": "uQNspep9hryl",
        "colab_type": "text"
      },
      "source": [
        "Query a list of **CITY** and **STATE** from the **STATION** table.\n",
        "\n",
        "\n",
        "**Input Format**\n",
        "\n",
        "The STATION table is described as follows:\n",
        "\n",
        "![table](https://s3.amazonaws.com/hr-challenge-images/9336/1449345840-5f0a551030-Station.jpg)"
      ]
    },
    {
      "cell_type": "code",
      "metadata": {
        "id": "DDjJg2lph6tX",
        "colab_type": "code",
        "colab": {}
      },
      "source": [
        "SELECT CITY, STATE\n",
        "FROM STATION"
      ],
      "execution_count": 0,
      "outputs": []
    },
    {
      "cell_type": "markdown",
      "metadata": {
        "id": "7_Vm5JmYiQVf",
        "colab_type": "text"
      },
      "source": [
        "Query a list of **CITY** names from **STATION** with even **ID** numbers only. You may print the results in any order, but must exclude duplicates from your answer.\n",
        "\n",
        "**Input Format**\n",
        "\n",
        "The **STATION** table is described as follows:\n",
        "\n",
        "![table](https://s3.amazonaws.com/hr-challenge-images/9336/1449345840-5f0a551030-Station.jpg)"
      ]
    },
    {
      "cell_type": "code",
      "metadata": {
        "id": "JRGrmrreidfY",
        "colab_type": "code",
        "colab": {}
      },
      "source": [
        "SELECT DISTINCT CITY\n",
        "FROM STATION\n",
        "WHERE (ID % 2 = 0)"
      ],
      "execution_count": 0,
      "outputs": []
    },
    {
      "cell_type": "markdown",
      "metadata": {
        "id": "b1DOCsnjipYk",
        "colab_type": "text"
      },
      "source": [
        "Let `N` be the number of **CITY** entries in **STATION**, and let `N'` be the number of distinct **CITY** names in **STATION**; query the value of  from **STATION**. In other words, find the difference between the total number of **CITY** entries in the table and the number of distinct **CITY** entries in the table.\n",
        "\n",
        "**Input Format**\n",
        "\n",
        "The **STATION** table is described as follows:\n",
        "\n",
        "![table](https://s3.amazonaws.com/hr-challenge-images/9336/1449345840-5f0a551030-Station.jpg)"
      ]
    },
    {
      "cell_type": "code",
      "metadata": {
        "id": "vYBOFLRljMgp",
        "colab_type": "code",
        "colab": {}
      },
      "source": [
        "SELECT COUNT(CITY) - COUNT(DISTINCT(CITY))\n",
        "FROM STATION"
      ],
      "execution_count": 0,
      "outputs": []
    },
    {
      "cell_type": "markdown",
      "metadata": {
        "id": "hQZdkEnujaQE",
        "colab_type": "text"
      },
      "source": [
        "Query the two cities in **STATION** with the shortest and longest **CITY** names, as well as their respective lengths (i.e.: number of characters in the name). If there is more than one smallest or largest city, choose the one that comes first when ordered alphabetically.\n",
        "\n",
        "**Input Format**\n",
        "\n",
        "The **STATION** table is described as follows:\n",
        "\n",
        "![table](https://s3.amazonaws.com/hr-challenge-images/9336/1449345840-5f0a551030-Station.jpg)"
      ]
    },
    {
      "cell_type": "code",
      "metadata": {
        "id": "9lXsthmTjk6G",
        "colab_type": "code",
        "colab": {}
      },
      "source": [
        "select CITY, length(CITY) \n",
        "from STATION \n",
        "order by length(CITY) ASC, CITY ASC\n",
        "limit 1;\n",
        "\n",
        "select CITY, length(CITY) \n",
        "from STATION \n",
        "order by length(CITY) DESC, CITY ASC\n",
        "limit 1"
      ],
      "execution_count": 0,
      "outputs": []
    },
    {
      "cell_type": "markdown",
      "metadata": {
        "id": "wymfeCiZjx3-",
        "colab_type": "text"
      },
      "source": [
        "# PYTHON"
      ]
    },
    {
      "cell_type": "markdown",
      "metadata": {
        "id": "BsNGBl-rkUWq",
        "colab_type": "text"
      },
      "source": [
        "### Python IF-ELSE\n",
        "https://www.hackerrank.com/challenges/py-if-else/problem"
      ]
    },
    {
      "cell_type": "code",
      "metadata": {
        "id": "9Ag1YvxVloHw",
        "colab_type": "code",
        "colab": {
          "base_uri": "https://localhost:8080/",
          "height": 55
        },
        "outputId": "dd879ec2-3ae2-45ea-9dc6-5ab25674fc15"
      },
      "source": [
        "if __name__ == '__main__':\n",
        "    n = int(input().strip())\n",
        "    if n % 2 == 1:\n",
        "        print(\"Weird\")\n",
        "    elif n >= 2 and n <= 5:\n",
        "        print(\"Not Weird\")\n",
        "    elif n >= 6 and n <= 20:\n",
        "        print(\"Weird\")\n",
        "    elif n > 20:\n",
        "        print(\"Not Weird\")"
      ],
      "execution_count": 2,
      "outputs": [
        {
          "output_type": "stream",
          "text": [
            "5\n",
            "Weird\n"
          ],
          "name": "stdout"
        }
      ]
    },
    {
      "cell_type": "markdown",
      "metadata": {
        "id": "VDu4Hj9plyn6",
        "colab_type": "text"
      },
      "source": [
        "## Python: Division\n",
        "https://www.hackerrank.com/challenges/python-division/problem"
      ]
    },
    {
      "cell_type": "code",
      "metadata": {
        "id": "uENJwiStl2jm",
        "colab_type": "code",
        "colab": {}
      },
      "source": [
        "if __name__ == '__main__':\n",
        "    a = int(input())\n",
        "    b = int(input())\n",
        "    print(a // b)\n",
        "    print(a / b)"
      ],
      "execution_count": 0,
      "outputs": []
    },
    {
      "cell_type": "markdown",
      "metadata": {
        "id": "31J0Do7PmEU8",
        "colab_type": "text"
      },
      "source": [
        "## Python: Loop\n",
        "\n",
        "https://www.hackerrank.com/challenges/python-loops/problem"
      ]
    },
    {
      "cell_type": "code",
      "metadata": {
        "id": "gd0wxK2ymNUM",
        "colab_type": "code",
        "colab": {}
      },
      "source": [
        "if __name__ == '__main__':\n",
        "    n = int(input())\n",
        "    for i in range(n):\n",
        "        print(i * i)\n"
      ],
      "execution_count": 0,
      "outputs": []
    },
    {
      "cell_type": "markdown",
      "metadata": {
        "id": "RT5MSXVRmWUo",
        "colab_type": "text"
      },
      "source": [
        "## Python: Funtion\n",
        "\n",
        "Check leap year\n",
        "\n",
        "https://www.hackerrank.com/challenges/write-a-function/problem"
      ]
    },
    {
      "cell_type": "code",
      "metadata": {
        "id": "LKTTvx8mng7j",
        "colab_type": "code",
        "colab": {}
      },
      "source": [
        "def is_leap(year):\n",
        "    return (year % 4 == 0 and year % 100 != 0) or (year % 400 == 0)\n",
        "\n",
        "year = int(input())\n",
        "print(is_leap(year))"
      ],
      "execution_count": 0,
      "outputs": []
    },
    {
      "cell_type": "markdown",
      "metadata": {
        "id": "XvxAWTzKntAi",
        "colab_type": "text"
      },
      "source": [
        "## Python: Print Funtion\n",
        "\n",
        "https://www.hackerrank.com/challenges/python-print/problem"
      ]
    },
    {
      "cell_type": "code",
      "metadata": {
        "id": "zHoVxZDpnwQW",
        "colab_type": "code",
        "colab": {}
      },
      "source": [
        "if __name__ == '__main__':\n",
        "    n = int(input())\n",
        "\n",
        "    for i in range(1, n + 1):\n",
        "        print(i, end=\"\")"
      ],
      "execution_count": 0,
      "outputs": []
    }
  ]
}