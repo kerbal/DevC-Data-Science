{
 "cells": [
  {
   "cell_type": "code",
   "execution_count": null,
   "metadata": {},
   "outputs": [
    {
     "name": "stdout",
     "output_type": "stream",
     "text": [
      "Collecting package metadata (current_repodata.json): done\n",
      "Solving environment: \\ \n",
      "The environment is inconsistent, please check the package plan carefully\n",
      "The following packages are causing the inconsistency:\n",
      "\n",
      "  - defaults/linux-64::anaconda==2019.07=py37_0\n",
      "  - defaults/linux-64::numba==0.44.1=py37h962f231_0\n",
      "failed with initial frozen solve. Retrying with flexible solve.\n",
      "Solving environment: failed with repodata from current_repodata.json, will retry with next repodata source.\n",
      "Collecting package metadata (repodata.json): done\n",
      "Solving environment: \\ \n",
      "The environment is inconsistent, please check the package plan carefully\n",
      "The following packages are causing the inconsistency:\n",
      "\n",
      "  - defaults/linux-64::anaconda==2019.07=py37_0\n",
      "  - defaults/linux-64::numba==0.44.1=py37h962f231_0\n",
      "done\n",
      "\n",
      "## Package Plan ##\n",
      "\n",
      "  environment location: /home/khanh/anaconda3\n",
      "\n",
      "  added / updated specs:\n",
      "    - opencv\n",
      "\n",
      "\n",
      "The following packages will be downloaded:\n",
      "\n",
      "    package                    |            build\n",
      "    ---------------------------|-----------------\n",
      "    _anaconda_depends-2019.03  |           py37_0           6 KB\n",
      "    anaconda-custom            |           py37_1           3 KB\n",
      "    ca-certificates-2019.10.16 |                0         131 KB\n",
      "    certifi-2019.9.11          |           py37_0         154 KB\n",
      "    conda-4.7.12               |           py37_0         3.0 MB\n",
      "    ffmpeg-4.0                 |       hcdf2ecd_0        53.3 MB\n",
      "    freeglut-3.0.0             |       hf484d3e_5         176 KB\n",
      "    h5py-2.8.0                 |   py37h989c5e5_3         910 KB\n",
      "    hdf5-1.10.2                |       hba1933b_1         3.8 MB\n",
      "    jasper-2.0.14              |       h07fcdf6_1         707 KB\n",
      "    libglu-9.0.0               |       hf484d3e_1         271 KB\n",
      "    libopencv-3.4.2            |       hb342d67_1        21.8 MB\n",
      "    libopus-1.3                |       h7b6447c_0         436 KB\n",
      "    libvpx-1.7.0               |       h439df22_0         1.2 MB\n",
      "    opencv-3.4.2               |   py37h6fd60c2_1          11 KB\n",
      "    openssl-1.1.1d             |       h7b6447c_3         3.7 MB\n",
      "    py-opencv-3.4.2            |   py37hb342d67_1         1.0 MB\n",
      "    pytables-3.4.4             |   py37ha205bf6_0         1.2 MB\n",
      "    tbb-2019.8                 |       hfd86e86_0         1.1 MB\n",
      "    ------------------------------------------------------------\n",
      "                                           Total:        93.0 MB\n",
      "\n",
      "The following NEW packages will be INSTALLED:\n",
      "\n",
      "  _anaconda_depends  pkgs/main/linux-64::_anaconda_depends-2019.03-py37_0\n",
      "  ffmpeg             pkgs/main/linux-64::ffmpeg-4.0-hcdf2ecd_0\n",
      "  freeglut           pkgs/main/linux-64::freeglut-3.0.0-hf484d3e_5\n",
      "  jasper             pkgs/main/linux-64::jasper-2.0.14-h07fcdf6_1\n",
      "  libglu             pkgs/main/linux-64::libglu-9.0.0-hf484d3e_1\n",
      "  libopencv          pkgs/main/linux-64::libopencv-3.4.2-hb342d67_1\n",
      "  libopus            pkgs/main/linux-64::libopus-1.3-h7b6447c_0\n",
      "  libvpx             pkgs/main/linux-64::libvpx-1.7.0-h439df22_0\n",
      "  opencv             pkgs/main/linux-64::opencv-3.4.2-py37h6fd60c2_1\n",
      "  py-opencv          pkgs/main/linux-64::py-opencv-3.4.2-py37hb342d67_1\n",
      "  tbb                pkgs/main/linux-64::tbb-2019.8-hfd86e86_0\n",
      "\n",
      "The following packages will be UPDATED:\n",
      "\n",
      "  ca-certificates     anaconda::ca-certificates-2019.5.15-0 --> pkgs/main::ca-certificates-2019.10.16-0\n",
      "  certifi                anaconda::certifi-2019.6.16-py37_0 --> pkgs/main::certifi-2019.9.11-py37_0\n",
      "  openssl               anaconda::openssl-1.1.1c-h7b6447c_1 --> pkgs/main::openssl-1.1.1d-h7b6447c_3\n",
      "\n",
      "The following packages will be SUPERSEDED by a higher-priority channel:\n",
      "\n",
      "  conda                                            anaconda --> pkgs/main\n",
      "\n",
      "The following packages will be DOWNGRADED:\n",
      "\n",
      "  anaconda                                   2019.07-py37_0 --> custom-py37_1\n",
      "  h5py                                 2.9.0-py37h7918eee_0 --> 2.8.0-py37h989c5e5_3\n",
      "  hdf5                                    1.10.4-hb1b8bf9_0 --> 1.10.2-hba1933b_1\n",
      "  pytables                             3.5.2-py37h71ec239_1 --> 3.4.4-py37ha205bf6_0\n",
      "\n",
      "\n",
      "Proceed ([y]/n)? "
     ]
    }
   ],
   "source": [
    "!conda install opencv"
   ]
  },
  {
   "cell_type": "code",
   "execution_count": null,
   "metadata": {},
   "outputs": [],
   "source": [
    "!y"
   ]
  },
  {
   "cell_type": "code",
   "execution_count": 2,
   "metadata": {},
   "outputs": [
    {
     "ename": "ModuleNotFoundError",
     "evalue": "No module named 'cv2'",
     "output_type": "error",
     "traceback": [
      "\u001b[0;31m---------------------------------------------------------------------------\u001b[0m",
      "\u001b[0;31mModuleNotFoundError\u001b[0m                       Traceback (most recent call last)",
      "\u001b[0;32m<ipython-input-2-c8ec22b3e787>\u001b[0m in \u001b[0;36m<module>\u001b[0;34m\u001b[0m\n\u001b[0;32m----> 1\u001b[0;31m \u001b[0;32mimport\u001b[0m \u001b[0mcv2\u001b[0m\u001b[0;34m\u001b[0m\u001b[0;34m\u001b[0m\u001b[0m\n\u001b[0m",
      "\u001b[0;31mModuleNotFoundError\u001b[0m: No module named 'cv2'"
     ]
    }
   ],
   "source": [
    "import cv2"
   ]
  },
  {
   "cell_type": "code",
   "execution_count": 1,
   "metadata": {},
   "outputs": [
    {
     "name": "stdout",
     "output_type": "stream",
     "text": [
      "hi\n"
     ]
    }
   ],
   "source": [
    "print('hi')"
   ]
  },
  {
   "cell_type": "code",
   "execution_count": null,
   "metadata": {},
   "outputs": [],
   "source": []
  }
 ],
 "metadata": {
  "kernelspec": {
   "display_name": "Python 3",
   "language": "python",
   "name": "python3"
  },
  "language_info": {
   "codemirror_mode": {
    "name": "ipython",
    "version": 3
   },
   "file_extension": ".py",
   "mimetype": "text/x-python",
   "name": "python",
   "nbconvert_exporter": "python",
   "pygments_lexer": "ipython3",
   "version": "3.7.3"
  }
 },
 "nbformat": 4,
 "nbformat_minor": 2
}
