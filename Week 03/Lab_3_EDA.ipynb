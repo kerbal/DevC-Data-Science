{
  "nbformat": 4,
  "nbformat_minor": 0,
  "metadata": {
    "colab": {
      "name": "Lab_3_EDA.ipynb",
      "provenance": [],
      "collapsed_sections": [
        "MoBgPjDiwhdV"
      ]
    },
    "language_info": {
      "codemirror_mode": {
        "name": "ipython",
        "version": 3
      },
      "file_extension": ".py",
      "mimetype": "text/x-python",
      "name": "python",
      "nbconvert_exporter": "python",
      "pygments_lexer": "ipython3",
      "version": "3.6.5"
    },
    "kernelspec": {
      "display_name": "Python 3",
      "language": "python",
      "name": "python3"
    }
  },
  "cells": [
    {
      "cell_type": "markdown",
      "metadata": {
        "id": "x7fdTGs4SnyS",
        "colab_type": "text"
      },
      "source": [
        "![](https://i.imgur.com/0AUxkXt.png)"
      ]
    },
    {
      "cell_type": "markdown",
      "metadata": {
        "id": "_uqy69P0Pm0L",
        "colab_type": "text"
      },
      "source": [
        "# Lab 3 - From data to insights\n",
        "\n",
        "Before you explore the data, write down a short list of what you expect to see in the data: the distribution of key variables, the relationships between important pairs of them, and so on. Such a list is essentially a prediction based on your current understanding of the business.\n",
        "\n",
        "Now analyze the data. Make plots, do summaries, whatever is needed to see if it matches your expectations.\n",
        "\n",
        "Is there anything that doesn’t match? Anything that makes you go “That’s odd” or “That doesn’t make any sense.”?\n",
        "\n",
        "Zoom in and try to understand what in your business is making that weird thing show up in the data like that. This is the critical step.\n",
        "\n",
        "You may have just found an insight into the business and increased your understanding\n",
        "\n",
        "\n",
        "## The data analysis checklist\n",
        "\n",
        "This checklist can be used as a guide during the process of a data analysis, or as a way to evaluate the quality of a reported data analysis.\n",
        "\n",
        "### Answering the first questions\n",
        "\n",
        "1. Did you define the metric for success before beginning?\n",
        "2. Did you understand the context for the question and business application?\n",
        "3. Did you consider whether the question could be answered with the available data?\n",
        "\n",
        "### Cleaning the data\n",
        "\n",
        "1. Did you identify the missing data?\n",
        "2. Is each variable one column?\n",
        "3. Do different data types appear in each table?\n",
        "4. Did you try to identify any errors or miscoding of variables?\n",
        "5. Did you check for outliers?\n",
        "\n",
        "### Exploratory analysis\n",
        "\n",
        "1. Did you make univariate plots (histogram, distplot, boxplot)?\n",
        "2. Did you consider correlations between variables (scatterplot, jointplot, kde plot, correlation matrix)?\n",
        "3. Did you check the units of all data points to make sure they are in the right range?\n",
        "\n",
        "### Presentations\n",
        "\n",
        "1. Did you lead with a brief, understandable to everyone of your problem?\n",
        "2. Did you explain the data, describe the question of interest?\n",
        "3. Did you make sure all legends and axes were legible from the back of the room?"
      ]
    },
    {
      "cell_type": "markdown",
      "metadata": {
        "id": "ZBc0glanPm0M",
        "colab_type": "text"
      },
      "source": [
        "## Example - San Francisco city employee salary data\n",
        "\n",
        "One way to understand how a city government works is by looking at who it employs and how its employees are compensated. This data contains the names, job title, and compensation for San Francisco city employees on an annual basis from 2011 to 2014.\n",
        "\n",
        "\n",
        "### Step 1 - Exploration Ideas\n",
        "\n",
        "1. How have salaries changed over time between different groups of people?\n",
        "2. How are base pay, overtime pay, and benefits allocated between different groups?\n",
        "4. How is budget allocated based on different groups and responsibilities?\n",
        "\n",
        "### Step 2 - Checking the data\n",
        "\n",
        "**Import tools set**"
      ]
    },
    {
      "cell_type": "code",
      "metadata": {
        "id": "9Cx3LXxfPm0N",
        "colab_type": "code",
        "colab": {}
      },
      "source": [
        "import numpy as np\n",
        "import pandas as pd\n",
        "import seaborn as sns\n",
        "import matplotlib.pyplot as plt\n",
        "%matplotlib inline\n",
        "import warnings\n",
        "warnings.filterwarnings('ignore')\n",
        "\n",
        "sns.set_style(\"whitegrid\")"
      ],
      "execution_count": 0,
      "outputs": []
    },
    {
      "cell_type": "markdown",
      "metadata": {
        "id": "mFTQu0j6Pm0Q",
        "colab_type": "text"
      },
      "source": [
        "**Import data**"
      ]
    },
    {
      "cell_type": "code",
      "metadata": {
        "id": "w0YVchrVPm0R",
        "colab_type": "code",
        "colab": {}
      },
      "source": [
        "# Fill the blanks\n",
        "# Load the data from https://ml101-khanhnguyen.s3-ap-southeast-1.amazonaws.com/devc/Salaries.csv into `sal` variable\n",
        "link = 'https://ml101-khanhnguyen.s3-ap-southeast-1.amazonaws.com/devc/Salaries.csv'\n",
        "sal = pd.read_csv(link)\n"
      ],
      "execution_count": 0,
      "outputs": []
    },
    {
      "cell_type": "markdown",
      "metadata": {
        "id": "6nU6CxSjPm0U",
        "colab_type": "text"
      },
      "source": [
        "**Check out head(), sample(), info(), describe()**"
      ]
    },
    {
      "cell_type": "code",
      "metadata": {
        "id": "v_BKYV2qPm0V",
        "colab_type": "code",
        "outputId": "441e5319-b7aa-4635-c940-8421bd8b4546",
        "colab": {
          "base_uri": "https://localhost:8080/",
          "height": 306
        }
      },
      "source": [
        "sal.head()"
      ],
      "execution_count": 0,
      "outputs": [
        {
          "output_type": "execute_result",
          "data": {
            "text/html": [
              "<div>\n",
              "<style scoped>\n",
              "    .dataframe tbody tr th:only-of-type {\n",
              "        vertical-align: middle;\n",
              "    }\n",
              "\n",
              "    .dataframe tbody tr th {\n",
              "        vertical-align: top;\n",
              "    }\n",
              "\n",
              "    .dataframe thead th {\n",
              "        text-align: right;\n",
              "    }\n",
              "</style>\n",
              "<table border=\"1\" class=\"dataframe\">\n",
              "  <thead>\n",
              "    <tr style=\"text-align: right;\">\n",
              "      <th></th>\n",
              "      <th>Id</th>\n",
              "      <th>EmployeeName</th>\n",
              "      <th>JobTitle</th>\n",
              "      <th>BasePay</th>\n",
              "      <th>OvertimePay</th>\n",
              "      <th>OtherPay</th>\n",
              "      <th>Benefits</th>\n",
              "      <th>TotalPay</th>\n",
              "      <th>TotalPayBenefits</th>\n",
              "      <th>Year</th>\n",
              "      <th>Notes</th>\n",
              "      <th>Agency</th>\n",
              "      <th>Status</th>\n",
              "    </tr>\n",
              "  </thead>\n",
              "  <tbody>\n",
              "    <tr>\n",
              "      <th>0</th>\n",
              "      <td>1</td>\n",
              "      <td>NATHANIEL FORD</td>\n",
              "      <td>GENERAL MANAGER-METROPOLITAN TRANSIT AUTHORITY</td>\n",
              "      <td>167411.18</td>\n",
              "      <td>0.00</td>\n",
              "      <td>400184.25</td>\n",
              "      <td>NaN</td>\n",
              "      <td>567595.43</td>\n",
              "      <td>567595.43</td>\n",
              "      <td>2011</td>\n",
              "      <td>NaN</td>\n",
              "      <td>San Francisco</td>\n",
              "      <td>NaN</td>\n",
              "    </tr>\n",
              "    <tr>\n",
              "      <th>1</th>\n",
              "      <td>2</td>\n",
              "      <td>GARY JIMENEZ</td>\n",
              "      <td>CAPTAIN III (POLICE DEPARTMENT)</td>\n",
              "      <td>155966.02</td>\n",
              "      <td>245131.88</td>\n",
              "      <td>137811.38</td>\n",
              "      <td>NaN</td>\n",
              "      <td>538909.28</td>\n",
              "      <td>538909.28</td>\n",
              "      <td>2011</td>\n",
              "      <td>NaN</td>\n",
              "      <td>San Francisco</td>\n",
              "      <td>NaN</td>\n",
              "    </tr>\n",
              "    <tr>\n",
              "      <th>2</th>\n",
              "      <td>3</td>\n",
              "      <td>ALBERT PARDINI</td>\n",
              "      <td>CAPTAIN III (POLICE DEPARTMENT)</td>\n",
              "      <td>212739.13</td>\n",
              "      <td>106088.18</td>\n",
              "      <td>16452.60</td>\n",
              "      <td>NaN</td>\n",
              "      <td>335279.91</td>\n",
              "      <td>335279.91</td>\n",
              "      <td>2011</td>\n",
              "      <td>NaN</td>\n",
              "      <td>San Francisco</td>\n",
              "      <td>NaN</td>\n",
              "    </tr>\n",
              "    <tr>\n",
              "      <th>3</th>\n",
              "      <td>4</td>\n",
              "      <td>CHRISTOPHER CHONG</td>\n",
              "      <td>WIRE ROPE CABLE MAINTENANCE MECHANIC</td>\n",
              "      <td>77916.00</td>\n",
              "      <td>56120.71</td>\n",
              "      <td>198306.90</td>\n",
              "      <td>NaN</td>\n",
              "      <td>332343.61</td>\n",
              "      <td>332343.61</td>\n",
              "      <td>2011</td>\n",
              "      <td>NaN</td>\n",
              "      <td>San Francisco</td>\n",
              "      <td>NaN</td>\n",
              "    </tr>\n",
              "    <tr>\n",
              "      <th>4</th>\n",
              "      <td>5</td>\n",
              "      <td>PATRICK GARDNER</td>\n",
              "      <td>DEPUTY CHIEF OF DEPARTMENT,(FIRE DEPARTMENT)</td>\n",
              "      <td>134401.60</td>\n",
              "      <td>9737.00</td>\n",
              "      <td>182234.59</td>\n",
              "      <td>NaN</td>\n",
              "      <td>326373.19</td>\n",
              "      <td>326373.19</td>\n",
              "      <td>2011</td>\n",
              "      <td>NaN</td>\n",
              "      <td>San Francisco</td>\n",
              "      <td>NaN</td>\n",
              "    </tr>\n",
              "  </tbody>\n",
              "</table>\n",
              "</div>"
            ],
            "text/plain": [
              "   Id       EmployeeName  ...         Agency  Status\n",
              "0   1     NATHANIEL FORD  ...  San Francisco     NaN\n",
              "1   2       GARY JIMENEZ  ...  San Francisco     NaN\n",
              "2   3     ALBERT PARDINI  ...  San Francisco     NaN\n",
              "3   4  CHRISTOPHER CHONG  ...  San Francisco     NaN\n",
              "4   5    PATRICK GARDNER  ...  San Francisco     NaN\n",
              "\n",
              "[5 rows x 13 columns]"
            ]
          },
          "metadata": {
            "tags": []
          },
          "execution_count": 9
        }
      ]
    },
    {
      "cell_type": "code",
      "metadata": {
        "id": "OjLrS9wlPm0a",
        "colab_type": "code",
        "outputId": "4806609e-cf62-4d0f-d83d-b93d370c3927",
        "colab": {
          "base_uri": "https://localhost:8080/",
          "height": 306
        }
      },
      "source": [
        "sal.sample(5)"
      ],
      "execution_count": 0,
      "outputs": [
        {
          "output_type": "execute_result",
          "data": {
            "text/html": [
              "<div>\n",
              "<style scoped>\n",
              "    .dataframe tbody tr th:only-of-type {\n",
              "        vertical-align: middle;\n",
              "    }\n",
              "\n",
              "    .dataframe tbody tr th {\n",
              "        vertical-align: top;\n",
              "    }\n",
              "\n",
              "    .dataframe thead th {\n",
              "        text-align: right;\n",
              "    }\n",
              "</style>\n",
              "<table border=\"1\" class=\"dataframe\">\n",
              "  <thead>\n",
              "    <tr style=\"text-align: right;\">\n",
              "      <th></th>\n",
              "      <th>Id</th>\n",
              "      <th>EmployeeName</th>\n",
              "      <th>JobTitle</th>\n",
              "      <th>BasePay</th>\n",
              "      <th>OvertimePay</th>\n",
              "      <th>OtherPay</th>\n",
              "      <th>Benefits</th>\n",
              "      <th>TotalPay</th>\n",
              "      <th>TotalPayBenefits</th>\n",
              "      <th>Year</th>\n",
              "      <th>Notes</th>\n",
              "      <th>Agency</th>\n",
              "      <th>Status</th>\n",
              "    </tr>\n",
              "  </thead>\n",
              "  <tbody>\n",
              "    <tr>\n",
              "      <th>6185</th>\n",
              "      <td>6186</td>\n",
              "      <td>DORIAN LOK</td>\n",
              "      <td>PUBLIC SAFETY COMMUNICATIONS DISPATCHER</td>\n",
              "      <td>77546.27</td>\n",
              "      <td>29119.19</td>\n",
              "      <td>11038.89</td>\n",
              "      <td>NaN</td>\n",
              "      <td>117704.35</td>\n",
              "      <td>117704.35</td>\n",
              "      <td>2011</td>\n",
              "      <td>NaN</td>\n",
              "      <td>San Francisco</td>\n",
              "      <td>NaN</td>\n",
              "    </tr>\n",
              "    <tr>\n",
              "      <th>51329</th>\n",
              "      <td>51330</td>\n",
              "      <td>Clyde Pinkins</td>\n",
              "      <td>Transit Operator</td>\n",
              "      <td>66062.21</td>\n",
              "      <td>7858.77</td>\n",
              "      <td>979.47</td>\n",
              "      <td>38153.02</td>\n",
              "      <td>74900.45</td>\n",
              "      <td>113053.47</td>\n",
              "      <td>2012</td>\n",
              "      <td>NaN</td>\n",
              "      <td>San Francisco</td>\n",
              "      <td>NaN</td>\n",
              "    </tr>\n",
              "    <tr>\n",
              "      <th>104167</th>\n",
              "      <td>104168</td>\n",
              "      <td>Arnulfo A Carranceja</td>\n",
              "      <td>Licensed Vocational Nurse</td>\n",
              "      <td>16786.98</td>\n",
              "      <td>1615.07</td>\n",
              "      <td>276.77</td>\n",
              "      <td>186.77</td>\n",
              "      <td>18678.82</td>\n",
              "      <td>18865.59</td>\n",
              "      <td>2013</td>\n",
              "      <td>NaN</td>\n",
              "      <td>San Francisco</td>\n",
              "      <td>NaN</td>\n",
              "    </tr>\n",
              "    <tr>\n",
              "      <th>81452</th>\n",
              "      <td>81453</td>\n",
              "      <td>Theresa E Cahill</td>\n",
              "      <td>Registered Nurse</td>\n",
              "      <td>113412.52</td>\n",
              "      <td>0.00</td>\n",
              "      <td>250.00</td>\n",
              "      <td>35676.43</td>\n",
              "      <td>113662.52</td>\n",
              "      <td>149338.95</td>\n",
              "      <td>2013</td>\n",
              "      <td>NaN</td>\n",
              "      <td>San Francisco</td>\n",
              "      <td>NaN</td>\n",
              "    </tr>\n",
              "    <tr>\n",
              "      <th>16485</th>\n",
              "      <td>16486</td>\n",
              "      <td>PAULINA ARMSTRONG</td>\n",
              "      <td>SENIOR ELIGIBILITY WORKER</td>\n",
              "      <td>66066.40</td>\n",
              "      <td>6600.81</td>\n",
              "      <td>220.00</td>\n",
              "      <td>NaN</td>\n",
              "      <td>72887.21</td>\n",
              "      <td>72887.21</td>\n",
              "      <td>2011</td>\n",
              "      <td>NaN</td>\n",
              "      <td>San Francisco</td>\n",
              "      <td>NaN</td>\n",
              "    </tr>\n",
              "  </tbody>\n",
              "</table>\n",
              "</div>"
            ],
            "text/plain": [
              "            Id          EmployeeName  ...         Agency  Status\n",
              "6185      6186            DORIAN LOK  ...  San Francisco     NaN\n",
              "51329    51330         Clyde Pinkins  ...  San Francisco     NaN\n",
              "104167  104168  Arnulfo A Carranceja  ...  San Francisco     NaN\n",
              "81452    81453      Theresa E Cahill  ...  San Francisco     NaN\n",
              "16485    16486     PAULINA ARMSTRONG  ...  San Francisco     NaN\n",
              "\n",
              "[5 rows x 13 columns]"
            ]
          },
          "metadata": {
            "tags": []
          },
          "execution_count": 10
        }
      ]
    },
    {
      "cell_type": "code",
      "metadata": {
        "id": "AQ25O59kPm0d",
        "colab_type": "code",
        "outputId": "7e5de95b-344f-4d2e-ffdd-904865aecaff",
        "colab": {
          "base_uri": "https://localhost:8080/",
          "height": 359
        }
      },
      "source": [
        "sal.info()"
      ],
      "execution_count": 0,
      "outputs": [
        {
          "output_type": "stream",
          "text": [
            "<class 'pandas.core.frame.DataFrame'>\n",
            "RangeIndex: 148654 entries, 0 to 148653\n",
            "Data columns (total 13 columns):\n",
            "Id                  148654 non-null int64\n",
            "EmployeeName        148654 non-null object\n",
            "JobTitle            148654 non-null object\n",
            "BasePay             148045 non-null float64\n",
            "OvertimePay         148650 non-null float64\n",
            "OtherPay            148650 non-null float64\n",
            "Benefits            112491 non-null float64\n",
            "TotalPay            148654 non-null float64\n",
            "TotalPayBenefits    148654 non-null float64\n",
            "Year                148654 non-null int64\n",
            "Notes               0 non-null float64\n",
            "Agency              148654 non-null object\n",
            "Status              0 non-null float64\n",
            "dtypes: float64(8), int64(2), object(3)\n",
            "memory usage: 14.7+ MB\n"
          ],
          "name": "stdout"
        }
      ]
    },
    {
      "cell_type": "code",
      "metadata": {
        "id": "oL4V7oDyPm0h",
        "colab_type": "code",
        "outputId": "85147c11-e5fe-4cce-8c12-17283e9c3386",
        "colab": {
          "base_uri": "https://localhost:8080/",
          "height": 297
        }
      },
      "source": [
        "sal.describe()"
      ],
      "execution_count": 0,
      "outputs": [
        {
          "output_type": "execute_result",
          "data": {
            "text/html": [
              "<div>\n",
              "<style scoped>\n",
              "    .dataframe tbody tr th:only-of-type {\n",
              "        vertical-align: middle;\n",
              "    }\n",
              "\n",
              "    .dataframe tbody tr th {\n",
              "        vertical-align: top;\n",
              "    }\n",
              "\n",
              "    .dataframe thead th {\n",
              "        text-align: right;\n",
              "    }\n",
              "</style>\n",
              "<table border=\"1\" class=\"dataframe\">\n",
              "  <thead>\n",
              "    <tr style=\"text-align: right;\">\n",
              "      <th></th>\n",
              "      <th>Id</th>\n",
              "      <th>BasePay</th>\n",
              "      <th>OvertimePay</th>\n",
              "      <th>OtherPay</th>\n",
              "      <th>Benefits</th>\n",
              "      <th>TotalPay</th>\n",
              "      <th>TotalPayBenefits</th>\n",
              "      <th>Year</th>\n",
              "      <th>Notes</th>\n",
              "      <th>Status</th>\n",
              "    </tr>\n",
              "  </thead>\n",
              "  <tbody>\n",
              "    <tr>\n",
              "      <th>count</th>\n",
              "      <td>148654.000000</td>\n",
              "      <td>148045.000000</td>\n",
              "      <td>148650.000000</td>\n",
              "      <td>148650.000000</td>\n",
              "      <td>112491.000000</td>\n",
              "      <td>148654.000000</td>\n",
              "      <td>148654.000000</td>\n",
              "      <td>148654.000000</td>\n",
              "      <td>0.0</td>\n",
              "      <td>0.0</td>\n",
              "    </tr>\n",
              "    <tr>\n",
              "      <th>mean</th>\n",
              "      <td>74327.500000</td>\n",
              "      <td>66325.448841</td>\n",
              "      <td>5066.059886</td>\n",
              "      <td>3648.767297</td>\n",
              "      <td>25007.893151</td>\n",
              "      <td>74768.321972</td>\n",
              "      <td>93692.554811</td>\n",
              "      <td>2012.522643</td>\n",
              "      <td>NaN</td>\n",
              "      <td>NaN</td>\n",
              "    </tr>\n",
              "    <tr>\n",
              "      <th>std</th>\n",
              "      <td>42912.857795</td>\n",
              "      <td>42764.635495</td>\n",
              "      <td>11454.380559</td>\n",
              "      <td>8056.601866</td>\n",
              "      <td>15402.215858</td>\n",
              "      <td>50517.005274</td>\n",
              "      <td>62793.533483</td>\n",
              "      <td>1.117538</td>\n",
              "      <td>NaN</td>\n",
              "      <td>NaN</td>\n",
              "    </tr>\n",
              "    <tr>\n",
              "      <th>min</th>\n",
              "      <td>1.000000</td>\n",
              "      <td>-166.010000</td>\n",
              "      <td>-0.010000</td>\n",
              "      <td>-7058.590000</td>\n",
              "      <td>-33.890000</td>\n",
              "      <td>-618.130000</td>\n",
              "      <td>-618.130000</td>\n",
              "      <td>2011.000000</td>\n",
              "      <td>NaN</td>\n",
              "      <td>NaN</td>\n",
              "    </tr>\n",
              "    <tr>\n",
              "      <th>25%</th>\n",
              "      <td>37164.250000</td>\n",
              "      <td>33588.200000</td>\n",
              "      <td>0.000000</td>\n",
              "      <td>0.000000</td>\n",
              "      <td>11535.395000</td>\n",
              "      <td>36168.995000</td>\n",
              "      <td>44065.650000</td>\n",
              "      <td>2012.000000</td>\n",
              "      <td>NaN</td>\n",
              "      <td>NaN</td>\n",
              "    </tr>\n",
              "    <tr>\n",
              "      <th>50%</th>\n",
              "      <td>74327.500000</td>\n",
              "      <td>65007.450000</td>\n",
              "      <td>0.000000</td>\n",
              "      <td>811.270000</td>\n",
              "      <td>28628.620000</td>\n",
              "      <td>71426.610000</td>\n",
              "      <td>92404.090000</td>\n",
              "      <td>2013.000000</td>\n",
              "      <td>NaN</td>\n",
              "      <td>NaN</td>\n",
              "    </tr>\n",
              "    <tr>\n",
              "      <th>75%</th>\n",
              "      <td>111490.750000</td>\n",
              "      <td>94691.050000</td>\n",
              "      <td>4658.175000</td>\n",
              "      <td>4236.065000</td>\n",
              "      <td>35566.855000</td>\n",
              "      <td>105839.135000</td>\n",
              "      <td>132876.450000</td>\n",
              "      <td>2014.000000</td>\n",
              "      <td>NaN</td>\n",
              "      <td>NaN</td>\n",
              "    </tr>\n",
              "    <tr>\n",
              "      <th>max</th>\n",
              "      <td>148654.000000</td>\n",
              "      <td>319275.010000</td>\n",
              "      <td>245131.880000</td>\n",
              "      <td>400184.250000</td>\n",
              "      <td>96570.660000</td>\n",
              "      <td>567595.430000</td>\n",
              "      <td>567595.430000</td>\n",
              "      <td>2014.000000</td>\n",
              "      <td>NaN</td>\n",
              "      <td>NaN</td>\n",
              "    </tr>\n",
              "  </tbody>\n",
              "</table>\n",
              "</div>"
            ],
            "text/plain": [
              "                  Id        BasePay  ...  Notes  Status\n",
              "count  148654.000000  148045.000000  ...    0.0     0.0\n",
              "mean    74327.500000   66325.448841  ...    NaN     NaN\n",
              "std     42912.857795   42764.635495  ...    NaN     NaN\n",
              "min         1.000000    -166.010000  ...    NaN     NaN\n",
              "25%     37164.250000   33588.200000  ...    NaN     NaN\n",
              "50%     74327.500000   65007.450000  ...    NaN     NaN\n",
              "75%    111490.750000   94691.050000  ...    NaN     NaN\n",
              "max    148654.000000  319275.010000  ...    NaN     NaN\n",
              "\n",
              "[8 rows x 10 columns]"
            ]
          },
          "metadata": {
            "tags": []
          },
          "execution_count": 12
        }
      ]
    },
    {
      "cell_type": "markdown",
      "metadata": {
        "id": "wY6yv3UsPm0k",
        "colab_type": "text"
      },
      "source": [
        "### Step 3 - Cleaning the data\n",
        "\n",
        "Few of useful data cleaning functions:\n",
        "\n",
        "* `s.astype('category')` # This will convert the datatype of the series to float *Please note that \"s\" here is a Pandas Series\n",
        "\n",
        "* `s.replace(1,'one')` # This will replace all values equal to 1 with 'one'\n",
        "\n",
        "* `s.replace([1,3],['one','three'])` # This will replace all 1 with 'one' and 3 with 'three'\n",
        "\n",
        "* `data.rename(columns=lambda x: x + 1)` # Mass renaming of columns\n",
        "\n",
        "* `data.rename(columns={'oldname': 'new name'})` # Selective renaming\n",
        "\n",
        "* `data.set_index('column_one')` #  This will change the index\n",
        "\n",
        "* `data.rename(index=lambda x: x + 1)` # Mass renaming of index\n",
        "\n",
        "* `data.dropna()` # Remove missing values\n",
        "\n",
        "* `data.fillna(x)` #  This will replaces all null values with x\n",
        "\n",
        "* `s.fillna(s.mean())` # This will replace all null values with the mean (mean can be replaced with almost any function from the below section) :\n",
        "\n",
        "* `data.corr()` # This will return the correlation between columns in a DataFrame\n",
        "\n",
        "* `data.count()` # This will return the number of non-null values in each DataFrame column\n",
        "\n",
        "* `data.max()` # This will return the highest value in each column\n",
        "\n",
        "* `data.min()` # This will return the lowest value in each column\n",
        "\n",
        "* `data.median()` # This will return the median of each column\n",
        "\n",
        "* `data.std()` # This will returns the standard deviation of each column\n"
      ]
    },
    {
      "cell_type": "markdown",
      "metadata": {
        "id": "e5NuNcPscq9x",
        "colab_type": "text"
      },
      "source": [
        "**Check duplication in columns in which the data must be unique**"
      ]
    },
    {
      "cell_type": "code",
      "metadata": {
        "id": "GPIDpsygPm0l",
        "colab_type": "code",
        "outputId": "edde0013-a124-4ef9-aa18-a38a57714d20",
        "colab": {
          "base_uri": "https://localhost:8080/",
          "height": 36
        }
      },
      "source": [
        "sal['Id'].nunique() == sal.shape[0]\n",
        "\n",
        "# True => 'Id' has no duplication"
      ],
      "execution_count": 0,
      "outputs": [
        {
          "output_type": "execute_result",
          "data": {
            "text/plain": [
              "True"
            ]
          },
          "metadata": {
            "tags": []
          },
          "execution_count": 13
        }
      ]
    },
    {
      "cell_type": "markdown",
      "metadata": {
        "id": "1cmMLYR5fsGl",
        "colab_type": "text"
      },
      "source": [
        "**Change the type to category**"
      ]
    },
    {
      "cell_type": "code",
      "metadata": {
        "id": "LtaeNb4yPm0p",
        "colab_type": "code",
        "colab": {}
      },
      "source": [
        "sal['Id'] = sal['Id'].astype('category')\n",
        "\n",
        "# Change Year to be a categorical variable too\n",
        "# Your code here\n",
        "\n",
        "sal['Year'] = sal['Year'].astype('category')"
      ],
      "execution_count": 0,
      "outputs": []
    },
    {
      "cell_type": "markdown",
      "metadata": {
        "id": "VSVoX1K3Pm0s",
        "colab_type": "text"
      },
      "source": [
        "**Drop unnecessary columns**"
      ]
    },
    {
      "cell_type": "code",
      "metadata": {
        "id": "RHV8TMa1Pm0t",
        "colab_type": "code",
        "colab": {}
      },
      "source": [
        "# Look at the info() again, which columns you can drop immediately?\n",
        "# Fill the blanks\n",
        "\n",
        "# We can drop 'Notes' and 'Status' column because they have no value\n",
        "\n",
        "sal.drop(columns=['Notes', 'Status'], inplace=True)"
      ],
      "execution_count": 0,
      "outputs": []
    },
    {
      "cell_type": "code",
      "metadata": {
        "id": "xCvrYvQMPm0w",
        "colab_type": "code",
        "colab": {}
      },
      "source": [
        "# Are there any other columns that don't bring us much information?\n",
        "# Drop them coldbloodedly\n",
        "# Your code here\n",
        "\n",
        "sal['Agency'].unique()\n",
        "\n",
        "# we can drop 'Agency' column because it has just one value at all\n",
        "sal.drop(columns='Agency', inplace=True)"
      ],
      "execution_count": 0,
      "outputs": []
    },
    {
      "cell_type": "code",
      "metadata": {
        "id": "-Aykt_CoPm02",
        "colab_type": "code",
        "outputId": "99697541-616b-485e-dc07-785ddcc8cf77",
        "colab": {
          "base_uri": "https://localhost:8080/",
          "height": 302
        }
      },
      "source": [
        "# Check again with info()\n",
        "# Your code here\n",
        "\n",
        "sal.info()"
      ],
      "execution_count": 0,
      "outputs": [
        {
          "output_type": "stream",
          "text": [
            "<class 'pandas.core.frame.DataFrame'>\n",
            "RangeIndex: 148654 entries, 0 to 148653\n",
            "Data columns (total 10 columns):\n",
            "Id                  148654 non-null category\n",
            "EmployeeName        148654 non-null object\n",
            "JobTitle            148654 non-null object\n",
            "BasePay             148045 non-null float64\n",
            "OvertimePay         148650 non-null float64\n",
            "OtherPay            148650 non-null float64\n",
            "Benefits            112491 non-null float64\n",
            "TotalPay            148654 non-null float64\n",
            "TotalPayBenefits    148654 non-null float64\n",
            "Year                148654 non-null category\n",
            "dtypes: category(2), float64(6), object(2)\n",
            "memory usage: 15.9+ MB\n"
          ],
          "name": "stdout"
        }
      ]
    },
    {
      "cell_type": "markdown",
      "metadata": {
        "id": "rcNsGWarPm06",
        "colab_type": "text"
      },
      "source": [
        "**Check for NaN values**"
      ]
    },
    {
      "cell_type": "code",
      "metadata": {
        "id": "TqLxHGy2Pm06",
        "colab_type": "code",
        "outputId": "0759524a-87ee-4df3-d82f-fe9b67f45a12",
        "colab": {
          "base_uri": "https://localhost:8080/",
          "height": 226
        }
      },
      "source": [
        "sal.isna().sum()"
      ],
      "execution_count": 0,
      "outputs": [
        {
          "output_type": "execute_result",
          "data": {
            "text/plain": [
              "Id                      0\n",
              "EmployeeName            0\n",
              "JobTitle                0\n",
              "BasePay               609\n",
              "OvertimePay             4\n",
              "OtherPay                4\n",
              "Benefits            36163\n",
              "TotalPay                0\n",
              "TotalPayBenefits        0\n",
              "Year                    0\n",
              "dtype: int64"
            ]
          },
          "metadata": {
            "tags": []
          },
          "execution_count": 18
        }
      ]
    },
    {
      "cell_type": "markdown",
      "metadata": {
        "id": "RdhPk_x1Pm0-",
        "colab_type": "text"
      },
      "source": [
        "**Examine few examples of NaN values**"
      ]
    },
    {
      "cell_type": "code",
      "metadata": {
        "id": "3kGYpbdOPm0-",
        "colab_type": "code",
        "outputId": "83d82213-9315-4943-b781-2df03fec752c",
        "colab": {
          "base_uri": "https://localhost:8080/",
          "height": 173
        }
      },
      "source": [
        "sal[sal['OtherPay'].isna()].head()"
      ],
      "execution_count": 0,
      "outputs": [
        {
          "output_type": "execute_result",
          "data": {
            "text/html": [
              "<div>\n",
              "<style scoped>\n",
              "    .dataframe tbody tr th:only-of-type {\n",
              "        vertical-align: middle;\n",
              "    }\n",
              "\n",
              "    .dataframe tbody tr th {\n",
              "        vertical-align: top;\n",
              "    }\n",
              "\n",
              "    .dataframe thead th {\n",
              "        text-align: right;\n",
              "    }\n",
              "</style>\n",
              "<table border=\"1\" class=\"dataframe\">\n",
              "  <thead>\n",
              "    <tr style=\"text-align: right;\">\n",
              "      <th></th>\n",
              "      <th>Id</th>\n",
              "      <th>EmployeeName</th>\n",
              "      <th>JobTitle</th>\n",
              "      <th>BasePay</th>\n",
              "      <th>OvertimePay</th>\n",
              "      <th>OtherPay</th>\n",
              "      <th>Benefits</th>\n",
              "      <th>TotalPay</th>\n",
              "      <th>TotalPayBenefits</th>\n",
              "      <th>Year</th>\n",
              "    </tr>\n",
              "  </thead>\n",
              "  <tbody>\n",
              "    <tr>\n",
              "      <th>148646</th>\n",
              "      <td>148647</td>\n",
              "      <td>Not provided</td>\n",
              "      <td>Not provided</td>\n",
              "      <td>NaN</td>\n",
              "      <td>NaN</td>\n",
              "      <td>NaN</td>\n",
              "      <td>NaN</td>\n",
              "      <td>0.0</td>\n",
              "      <td>0.0</td>\n",
              "      <td>2014</td>\n",
              "    </tr>\n",
              "    <tr>\n",
              "      <th>148650</th>\n",
              "      <td>148651</td>\n",
              "      <td>Not provided</td>\n",
              "      <td>Not provided</td>\n",
              "      <td>NaN</td>\n",
              "      <td>NaN</td>\n",
              "      <td>NaN</td>\n",
              "      <td>NaN</td>\n",
              "      <td>0.0</td>\n",
              "      <td>0.0</td>\n",
              "      <td>2014</td>\n",
              "    </tr>\n",
              "    <tr>\n",
              "      <th>148651</th>\n",
              "      <td>148652</td>\n",
              "      <td>Not provided</td>\n",
              "      <td>Not provided</td>\n",
              "      <td>NaN</td>\n",
              "      <td>NaN</td>\n",
              "      <td>NaN</td>\n",
              "      <td>NaN</td>\n",
              "      <td>0.0</td>\n",
              "      <td>0.0</td>\n",
              "      <td>2014</td>\n",
              "    </tr>\n",
              "    <tr>\n",
              "      <th>148652</th>\n",
              "      <td>148653</td>\n",
              "      <td>Not provided</td>\n",
              "      <td>Not provided</td>\n",
              "      <td>NaN</td>\n",
              "      <td>NaN</td>\n",
              "      <td>NaN</td>\n",
              "      <td>NaN</td>\n",
              "      <td>0.0</td>\n",
              "      <td>0.0</td>\n",
              "      <td>2014</td>\n",
              "    </tr>\n",
              "  </tbody>\n",
              "</table>\n",
              "</div>"
            ],
            "text/plain": [
              "            Id  EmployeeName      JobTitle  ...  TotalPay  TotalPayBenefits  Year\n",
              "148646  148647  Not provided  Not provided  ...       0.0               0.0  2014\n",
              "148650  148651  Not provided  Not provided  ...       0.0               0.0  2014\n",
              "148651  148652  Not provided  Not provided  ...       0.0               0.0  2014\n",
              "148652  148653  Not provided  Not provided  ...       0.0               0.0  2014\n",
              "\n",
              "[4 rows x 10 columns]"
            ]
          },
          "metadata": {
            "tags": []
          },
          "execution_count": 35
        }
      ]
    },
    {
      "cell_type": "markdown",
      "metadata": {
        "id": "pNv3autOjiFj",
        "colab_type": "text"
      },
      "source": [
        "**Drop missing values of OtherPay and OvertimePay**"
      ]
    },
    {
      "cell_type": "code",
      "metadata": {
        "id": "ZDgbdnlhPm1C",
        "colab_type": "code",
        "colab": {}
      },
      "source": [
        "# Option 1\n",
        "# sal.drop(labels=[148646, 148650, 148651, 148652], axis=0)\n",
        "\n",
        "# Something cooler\n",
        "# Solution: Select data that OtherPay is not null and assign it to the dataframe 'sal'\n",
        "# Your code here\n",
        "\n",
        "sal = sal[sal['OtherPay'].isna()]\n",
        "sal = sal[sal['OvertimePay'].isna()]"
      ],
      "execution_count": 0,
      "outputs": []
    },
    {
      "cell_type": "code",
      "metadata": {
        "id": "cJ2gdxXZsfn8",
        "colab_type": "code",
        "outputId": "c205c4ff-0072-42b1-9928-38c3f3f92e0e",
        "colab": {
          "base_uri": "https://localhost:8080/",
          "height": 283
        }
      },
      "source": [
        "sal.isna().sum()"
      ],
      "execution_count": 0,
      "outputs": [
        {
          "output_type": "execute_result",
          "data": {
            "text/plain": [
              "Id                  0\n",
              "EmployeeName        0\n",
              "JobTitle            0\n",
              "BasePay             4\n",
              "OvertimePay         4\n",
              "OtherPay            4\n",
              "Benefits            4\n",
              "TotalPay            0\n",
              "TotalPayBenefits    0\n",
              "Year                0\n",
              "Notes               4\n",
              "Agency              0\n",
              "Status              4\n",
              "dtype: int64"
            ]
          },
          "metadata": {
            "tags": []
          },
          "execution_count": 6
        }
      ]
    },
    {
      "cell_type": "markdown",
      "metadata": {
        "id": "E8C8-rJ6kb5A",
        "colab_type": "text"
      },
      "source": [
        "**Analize missing values of BasePay and Benefits**"
      ]
    },
    {
      "cell_type": "markdown",
      "metadata": {
        "id": "etnqpO0Crcnp",
        "colab_type": "text"
      },
      "source": [
        ""
      ]
    },
    {
      "cell_type": "code",
      "metadata": {
        "id": "auarSm-bPm1G",
        "colab_type": "code",
        "outputId": "9379e601-71a8-47f6-ba03-fb130b4b4be3",
        "colab": {
          "base_uri": "https://localhost:8080/",
          "height": 204
        }
      },
      "source": [
        "# Select 5 sample of data that BasePay is null\n",
        "# Your code here\n",
        "\n",
        "sal[sal['BasePay'].isna()].sample(5)"
      ],
      "execution_count": 0,
      "outputs": [
        {
          "output_type": "execute_result",
          "data": {
            "text/html": [
              "<div>\n",
              "<style scoped>\n",
              "    .dataframe tbody tr th:only-of-type {\n",
              "        vertical-align: middle;\n",
              "    }\n",
              "\n",
              "    .dataframe tbody tr th {\n",
              "        vertical-align: top;\n",
              "    }\n",
              "\n",
              "    .dataframe thead th {\n",
              "        text-align: right;\n",
              "    }\n",
              "</style>\n",
              "<table border=\"1\" class=\"dataframe\">\n",
              "  <thead>\n",
              "    <tr style=\"text-align: right;\">\n",
              "      <th></th>\n",
              "      <th>Id</th>\n",
              "      <th>EmployeeName</th>\n",
              "      <th>JobTitle</th>\n",
              "      <th>BasePay</th>\n",
              "      <th>OvertimePay</th>\n",
              "      <th>OtherPay</th>\n",
              "      <th>Benefits</th>\n",
              "      <th>TotalPay</th>\n",
              "      <th>TotalPayBenefits</th>\n",
              "      <th>Year</th>\n",
              "    </tr>\n",
              "  </thead>\n",
              "  <tbody>\n",
              "    <tr>\n",
              "      <th>107431</th>\n",
              "      <td>107432</td>\n",
              "      <td>Catherine N Trinh</td>\n",
              "      <td>Pharmacist</td>\n",
              "      <td>NaN</td>\n",
              "      <td>0.0</td>\n",
              "      <td>6510.11</td>\n",
              "      <td>0.00</td>\n",
              "      <td>6510.11</td>\n",
              "      <td>6510.11</td>\n",
              "      <td>2013</td>\n",
              "    </tr>\n",
              "    <tr>\n",
              "      <th>109148</th>\n",
              "      <td>109149</td>\n",
              "      <td>Audrey M Sylve</td>\n",
              "      <td>Transit Operator</td>\n",
              "      <td>NaN</td>\n",
              "      <td>0.0</td>\n",
              "      <td>2241.45</td>\n",
              "      <td>0.00</td>\n",
              "      <td>2241.45</td>\n",
              "      <td>2241.45</td>\n",
              "      <td>2013</td>\n",
              "    </tr>\n",
              "    <tr>\n",
              "      <th>106517</th>\n",
              "      <td>106518</td>\n",
              "      <td>Mattie D Spires-Morgan</td>\n",
              "      <td>Deputy Sheriff</td>\n",
              "      <td>NaN</td>\n",
              "      <td>0.0</td>\n",
              "      <td>414.58</td>\n",
              "      <td>7959.18</td>\n",
              "      <td>414.58</td>\n",
              "      <td>8373.76</td>\n",
              "      <td>2013</td>\n",
              "    </tr>\n",
              "    <tr>\n",
              "      <th>107468</th>\n",
              "      <td>107469</td>\n",
              "      <td>Barry  Gilton</td>\n",
              "      <td>Transit Operator</td>\n",
              "      <td>NaN</td>\n",
              "      <td>0.0</td>\n",
              "      <td>6372.19</td>\n",
              "      <td>0.00</td>\n",
              "      <td>6372.19</td>\n",
              "      <td>6372.19</td>\n",
              "      <td>2013</td>\n",
              "    </tr>\n",
              "    <tr>\n",
              "      <th>106843</th>\n",
              "      <td>106844</td>\n",
              "      <td>Alvin K Tang</td>\n",
              "      <td>Swimming Instr/Pool Lifeguard</td>\n",
              "      <td>NaN</td>\n",
              "      <td>0.0</td>\n",
              "      <td>0.00</td>\n",
              "      <td>7959.18</td>\n",
              "      <td>0.00</td>\n",
              "      <td>7959.18</td>\n",
              "      <td>2013</td>\n",
              "    </tr>\n",
              "  </tbody>\n",
              "</table>\n",
              "</div>"
            ],
            "text/plain": [
              "            Id            EmployeeName  ... TotalPayBenefits  Year\n",
              "107431  107432       Catherine N Trinh  ...          6510.11  2013\n",
              "109148  109149          Audrey M Sylve  ...          2241.45  2013\n",
              "106517  106518  Mattie D Spires-Morgan  ...          8373.76  2013\n",
              "107468  107469           Barry  Gilton  ...          6372.19  2013\n",
              "106843  106844            Alvin K Tang  ...          7959.18  2013\n",
              "\n",
              "[5 rows x 10 columns]"
            ]
          },
          "metadata": {
            "tags": []
          },
          "execution_count": 43
        }
      ]
    },
    {
      "cell_type": "markdown",
      "metadata": {
        "id": "LI8UuvPePm1J",
        "colab_type": "text"
      },
      "source": [
        "**For BasePay and Benefits, it is clear that NaN values are zeroes (from TotalPay and TotalPayBenefits).**\n",
        "\n",
        "**So, simply fill NaN values with 0**"
      ]
    },
    {
      "cell_type": "code",
      "metadata": {
        "id": "weJT0fK1Pm1K",
        "colab_type": "code",
        "colab": {}
      },
      "source": [
        "# Fill the blanks\n",
        "sal['Benefits'].fillna(value=0, inplace=True)"
      ],
      "execution_count": 0,
      "outputs": []
    },
    {
      "cell_type": "code",
      "metadata": {
        "id": "CtY8mxaJPm1N",
        "colab_type": "code",
        "colab": {}
      },
      "source": [
        "# Fill the blanks\n",
        "sal['BasePay'].fillna(value=0,inplace=True)"
      ],
      "execution_count": 0,
      "outputs": []
    },
    {
      "cell_type": "code",
      "metadata": {
        "id": "6r011Nm-Pm1Q",
        "colab_type": "code",
        "outputId": "95a3670f-d87a-4525-953c-08352c3db0a5",
        "colab": {
          "base_uri": "https://localhost:8080/",
          "height": 226
        }
      },
      "source": [
        "# Let check for NaN values again\n",
        "# Your code here\n",
        "\n",
        "sal.isna().sum()"
      ],
      "execution_count": 0,
      "outputs": [
        {
          "output_type": "execute_result",
          "data": {
            "text/plain": [
              "Id                  0\n",
              "EmployeeName        0\n",
              "JobTitle            0\n",
              "BasePay             0\n",
              "OvertimePay         0\n",
              "OtherPay            0\n",
              "Benefits            0\n",
              "TotalPay            0\n",
              "TotalPayBenefits    0\n",
              "Year                0\n",
              "dtype: int64"
            ]
          },
          "metadata": {
            "tags": []
          },
          "execution_count": 46
        }
      ]
    },
    {
      "cell_type": "markdown",
      "metadata": {
        "id": "4OJQFuzhPm1T",
        "colab_type": "text"
      },
      "source": [
        "**Min values of some payments are negative. Let's check it out**"
      ]
    },
    {
      "cell_type": "code",
      "metadata": {
        "id": "DS8XEj1UPm1U",
        "colab_type": "code",
        "outputId": "95306c7e-b1d0-4cf0-ec6d-d78e06ac8889",
        "colab": {
          "base_uri": "https://localhost:8080/",
          "height": 173
        }
      },
      "source": [
        "# Select data that has negative TotalPay or TotalPayBenefits\n",
        "sal[(sal['TotalPay'] < 0) | (sal['TotalPayBenefits'] < 0)]"
      ],
      "execution_count": 0,
      "outputs": [
        {
          "output_type": "execute_result",
          "data": {
            "text/html": [
              "<div>\n",
              "<style scoped>\n",
              "    .dataframe tbody tr th:only-of-type {\n",
              "        vertical-align: middle;\n",
              "    }\n",
              "\n",
              "    .dataframe tbody tr th {\n",
              "        vertical-align: top;\n",
              "    }\n",
              "\n",
              "    .dataframe thead th {\n",
              "        text-align: right;\n",
              "    }\n",
              "</style>\n",
              "<table border=\"1\" class=\"dataframe\">\n",
              "  <thead>\n",
              "    <tr style=\"text-align: right;\">\n",
              "      <th></th>\n",
              "      <th>Id</th>\n",
              "      <th>EmployeeName</th>\n",
              "      <th>JobTitle</th>\n",
              "      <th>BasePay</th>\n",
              "      <th>OvertimePay</th>\n",
              "      <th>OtherPay</th>\n",
              "      <th>Benefits</th>\n",
              "      <th>TotalPay</th>\n",
              "      <th>TotalPayBenefits</th>\n",
              "      <th>Year</th>\n",
              "    </tr>\n",
              "  </thead>\n",
              "  <tbody>\n",
              "    <tr>\n",
              "      <th>110528</th>\n",
              "      <td>110529</td>\n",
              "      <td>Timothy E Gibson</td>\n",
              "      <td>Police Officer 3</td>\n",
              "      <td>0.0</td>\n",
              "      <td>0.0</td>\n",
              "      <td>0.00</td>\n",
              "      <td>-2.73</td>\n",
              "      <td>0.00</td>\n",
              "      <td>-2.73</td>\n",
              "      <td>2013</td>\n",
              "    </tr>\n",
              "    <tr>\n",
              "      <th>110529</th>\n",
              "      <td>110530</td>\n",
              "      <td>Mark E Laherty</td>\n",
              "      <td>Police Officer 3</td>\n",
              "      <td>0.0</td>\n",
              "      <td>0.0</td>\n",
              "      <td>0.00</td>\n",
              "      <td>-8.20</td>\n",
              "      <td>0.00</td>\n",
              "      <td>-8.20</td>\n",
              "      <td>2013</td>\n",
              "    </tr>\n",
              "    <tr>\n",
              "      <th>110530</th>\n",
              "      <td>110531</td>\n",
              "      <td>David P Kucia</td>\n",
              "      <td>Police Officer 3</td>\n",
              "      <td>0.0</td>\n",
              "      <td>0.0</td>\n",
              "      <td>0.00</td>\n",
              "      <td>-33.89</td>\n",
              "      <td>0.00</td>\n",
              "      <td>-33.89</td>\n",
              "      <td>2013</td>\n",
              "    </tr>\n",
              "    <tr>\n",
              "      <th>148653</th>\n",
              "      <td>148654</td>\n",
              "      <td>Joe Lopez</td>\n",
              "      <td>Counselor, Log Cabin Ranch</td>\n",
              "      <td>0.0</td>\n",
              "      <td>0.0</td>\n",
              "      <td>-618.13</td>\n",
              "      <td>0.00</td>\n",
              "      <td>-618.13</td>\n",
              "      <td>-618.13</td>\n",
              "      <td>2014</td>\n",
              "    </tr>\n",
              "  </tbody>\n",
              "</table>\n",
              "</div>"
            ],
            "text/plain": [
              "            Id      EmployeeName  ... TotalPayBenefits  Year\n",
              "110528  110529  Timothy E Gibson  ...            -2.73  2013\n",
              "110529  110530    Mark E Laherty  ...            -8.20  2013\n",
              "110530  110531     David P Kucia  ...           -33.89  2013\n",
              "148653  148654         Joe Lopez  ...          -618.13  2014\n",
              "\n",
              "[4 rows x 10 columns]"
            ]
          },
          "metadata": {
            "tags": []
          },
          "execution_count": 52
        }
      ]
    },
    {
      "cell_type": "markdown",
      "metadata": {
        "id": "9w7-ugL0mQPC",
        "colab_type": "text"
      },
      "source": [
        "**There are only 4 of them, we can safely drop these data**"
      ]
    },
    {
      "cell_type": "code",
      "metadata": {
        "id": "2SfJWB9qPm1X",
        "colab_type": "code",
        "colab": {}
      },
      "source": [
        "# Your code here\n",
        "sal = sal[(sal['TotalPay'] >= 0) & (sal['TotalPayBenefits'] >= 0)]\n",
        "\n",
        "# sal.drop"
      ],
      "execution_count": 0,
      "outputs": []
    },
    {
      "cell_type": "markdown",
      "metadata": {
        "id": "mPny_KZsPm1Z",
        "colab_type": "text"
      },
      "source": [
        "**Identify any errors or miscoding of variables**"
      ]
    },
    {
      "cell_type": "code",
      "metadata": {
        "id": "9K85MLVzPm1Z",
        "colab_type": "code",
        "outputId": "f0a6d7ed-a4e5-403e-a5bc-bdbbf5915e14",
        "colab": {
          "base_uri": "https://localhost:8080/",
          "height": 55
        }
      },
      "source": [
        "# Check the unique values of Year\n",
        "# Your code here\n",
        "\n",
        "sal['Year'].unique()"
      ],
      "execution_count": 0,
      "outputs": [
        {
          "output_type": "execute_result",
          "data": {
            "text/plain": [
              "[2011, 2012, 2013, 2014]\n",
              "Categories (4, int64): [2011, 2012, 2013, 2014]"
            ]
          },
          "metadata": {
            "tags": []
          },
          "execution_count": 55
        }
      ]
    },
    {
      "cell_type": "code",
      "metadata": {
        "id": "1bddb3gXv09I",
        "colab_type": "code",
        "outputId": "aaf90a92-bc94-4dd4-9762-642f5ebea092",
        "colab": {
          "base_uri": "https://localhost:8080/",
          "height": 36
        }
      },
      "source": [
        "sal['EmployeeName'].nunique() == sal.shape[0]"
      ],
      "execution_count": 0,
      "outputs": [
        {
          "output_type": "execute_result",
          "data": {
            "text/plain": [
              "False"
            ]
          },
          "metadata": {
            "tags": []
          },
          "execution_count": 58
        }
      ]
    },
    {
      "cell_type": "markdown",
      "metadata": {
        "id": "c56z5tkKPm1c",
        "colab_type": "text"
      },
      "source": [
        "Check duplication"
      ]
    },
    {
      "cell_type": "code",
      "metadata": {
        "id": "_JW2GOxIPm1c",
        "colab_type": "code",
        "colab": {}
      },
      "source": [
        "# Apply strip() on EmployeeName and Jobtitle \n",
        "# to remove all the leading and trailing spaces\n",
        "# Fill the blanks\n",
        "sal['EmployeeName'] = sal['EmployeeName'].str.strip()\n",
        "sal['JobTitle'] = sal['JobTitle'].str.strip()"
      ],
      "execution_count": 0,
      "outputs": []
    },
    {
      "cell_type": "code",
      "metadata": {
        "id": "ZCl0vCkbPm1e",
        "colab_type": "code",
        "outputId": "409bf385-c3f6-4425-e002-a6b31200c624",
        "colab": {
          "base_uri": "https://localhost:8080/",
          "height": 36
        }
      },
      "source": [
        "# Check the number of unique value of EmployeeName\n",
        "sal['EmployeeName'].nunique()"
      ],
      "execution_count": 0,
      "outputs": [
        {
          "output_type": "execute_result",
          "data": {
            "text/plain": [
              "110806"
            ]
          },
          "metadata": {
            "tags": []
          },
          "execution_count": 59
        }
      ]
    },
    {
      "cell_type": "code",
      "metadata": {
        "id": "AjoEmOqOPm1i",
        "colab_type": "code",
        "outputId": "2d802daa-b80a-470d-92be-f404340b1746",
        "colab": {
          "base_uri": "https://localhost:8080/",
          "height": 36
        }
      },
      "source": [
        "# Check the number of unique value of EmployeeName in lower case\n",
        "# Fill the blanks\n",
        "sal['EmployeeName'].str.lower().nunique()"
      ],
      "execution_count": 0,
      "outputs": [
        {
          "output_type": "execute_result",
          "data": {
            "text/plain": [
              "80455"
            ]
          },
          "metadata": {
            "tags": []
          },
          "execution_count": 61
        }
      ]
    },
    {
      "cell_type": "code",
      "metadata": {
        "id": "xkHpzbNpPm1l",
        "colab_type": "code",
        "outputId": "247e3312-1409-4697-f2cb-3a4113aaaae5",
        "colab": {
          "base_uri": "https://localhost:8080/",
          "height": 55
        }
      },
      "source": [
        "# Do the same with JobTitle\n",
        "# Fill the blank\n",
        "sal['JobTitle'] = sal['JobTitle'].str.strip()\n",
        "\n",
        "print(sal['JobTitle'].nunique())\n",
        "print(sal['JobTitle'].str.lower().nunique())"
      ],
      "execution_count": 0,
      "outputs": [
        {
          "output_type": "stream",
          "text": [
            "2158\n",
            "1636\n"
          ],
          "name": "stdout"
        }
      ]
    },
    {
      "cell_type": "code",
      "metadata": {
        "id": "-JLeksePPm1r",
        "colab_type": "code",
        "outputId": "562d2fe4-06b5-48dc-ae66-8c8841170776",
        "colab": {
          "base_uri": "https://localhost:8080/",
          "height": 731
        }
      },
      "source": [
        "# Select the most common name\n",
        "# Something wrong, fix the error\n",
        "names = sal['EmployeeName'].str.lower().value_counts()\n",
        "sample = names[names > 1].head(1).index\n",
        "sal[sal['EmployeeName'].str.lower().isin(sample)]"
      ],
      "execution_count": 0,
      "outputs": [
        {
          "output_type": "execute_result",
          "data": {
            "text/html": [
              "<div>\n",
              "<style scoped>\n",
              "    .dataframe tbody tr th:only-of-type {\n",
              "        vertical-align: middle;\n",
              "    }\n",
              "\n",
              "    .dataframe tbody tr th {\n",
              "        vertical-align: top;\n",
              "    }\n",
              "\n",
              "    .dataframe thead th {\n",
              "        text-align: right;\n",
              "    }\n",
              "</style>\n",
              "<table border=\"1\" class=\"dataframe\">\n",
              "  <thead>\n",
              "    <tr style=\"text-align: right;\">\n",
              "      <th></th>\n",
              "      <th>Id</th>\n",
              "      <th>EmployeeName</th>\n",
              "      <th>JobTitle</th>\n",
              "      <th>BasePay</th>\n",
              "      <th>OvertimePay</th>\n",
              "      <th>OtherPay</th>\n",
              "      <th>Benefits</th>\n",
              "      <th>TotalPay</th>\n",
              "      <th>TotalPayBenefits</th>\n",
              "      <th>Year</th>\n",
              "    </tr>\n",
              "  </thead>\n",
              "  <tbody>\n",
              "    <tr>\n",
              "      <th>3824</th>\n",
              "      <td>3825</td>\n",
              "      <td>KEVIN LEE</td>\n",
              "      <td>POLICE OFFICER III</td>\n",
              "      <td>112401.08</td>\n",
              "      <td>19374.72</td>\n",
              "      <td>1062.10</td>\n",
              "      <td>0.00</td>\n",
              "      <td>132837.90</td>\n",
              "      <td>132837.90</td>\n",
              "      <td>2011</td>\n",
              "    </tr>\n",
              "    <tr>\n",
              "      <th>4036</th>\n",
              "      <td>4037</td>\n",
              "      <td>KEVIN LEE</td>\n",
              "      <td>POLICE OFFICER II</td>\n",
              "      <td>108000.94</td>\n",
              "      <td>17468.40</td>\n",
              "      <td>6025.54</td>\n",
              "      <td>0.00</td>\n",
              "      <td>131494.88</td>\n",
              "      <td>131494.88</td>\n",
              "      <td>2011</td>\n",
              "    </tr>\n",
              "    <tr>\n",
              "      <th>5279</th>\n",
              "      <td>5280</td>\n",
              "      <td>KEVIN LEE</td>\n",
              "      <td>ELECTRICAL TRANSIT SYSTEM MECHANIC</td>\n",
              "      <td>77580.68</td>\n",
              "      <td>36378.97</td>\n",
              "      <td>8858.96</td>\n",
              "      <td>0.00</td>\n",
              "      <td>122818.61</td>\n",
              "      <td>122818.61</td>\n",
              "      <td>2011</td>\n",
              "    </tr>\n",
              "    <tr>\n",
              "      <th>13169</th>\n",
              "      <td>13170</td>\n",
              "      <td>KEVIN LEE</td>\n",
              "      <td>DEPUTY COURT CLERK III</td>\n",
              "      <td>83693.01</td>\n",
              "      <td>0.00</td>\n",
              "      <td>609.60</td>\n",
              "      <td>0.00</td>\n",
              "      <td>84302.61</td>\n",
              "      <td>84302.61</td>\n",
              "      <td>2011</td>\n",
              "    </tr>\n",
              "    <tr>\n",
              "      <th>13419</th>\n",
              "      <td>13420</td>\n",
              "      <td>KEVIN LEE</td>\n",
              "      <td>DEPUTY COURT CLERK III</td>\n",
              "      <td>83560.00</td>\n",
              "      <td>0.00</td>\n",
              "      <td>0.00</td>\n",
              "      <td>0.00</td>\n",
              "      <td>83560.00</td>\n",
              "      <td>83560.00</td>\n",
              "      <td>2011</td>\n",
              "    </tr>\n",
              "    <tr>\n",
              "      <th>15312</th>\n",
              "      <td>15313</td>\n",
              "      <td>KEVIN LEE</td>\n",
              "      <td>PERSONNEL ANALYST</td>\n",
              "      <td>76786.31</td>\n",
              "      <td>0.00</td>\n",
              "      <td>0.00</td>\n",
              "      <td>0.00</td>\n",
              "      <td>76786.31</td>\n",
              "      <td>76786.31</td>\n",
              "      <td>2011</td>\n",
              "    </tr>\n",
              "    <tr>\n",
              "      <th>17163</th>\n",
              "      <td>17164</td>\n",
              "      <td>KEVIN LEE</td>\n",
              "      <td>SENIOR PARKING CONTROL OFFICER</td>\n",
              "      <td>65324.60</td>\n",
              "      <td>4944.02</td>\n",
              "      <td>686.93</td>\n",
              "      <td>0.00</td>\n",
              "      <td>70955.55</td>\n",
              "      <td>70955.55</td>\n",
              "      <td>2011</td>\n",
              "    </tr>\n",
              "    <tr>\n",
              "      <th>17646</th>\n",
              "      <td>17647</td>\n",
              "      <td>KEVIN LEE</td>\n",
              "      <td>IS ADMINISTRATOR II</td>\n",
              "      <td>66349.74</td>\n",
              "      <td>718.23</td>\n",
              "      <td>2325.47</td>\n",
              "      <td>0.00</td>\n",
              "      <td>69393.44</td>\n",
              "      <td>69393.44</td>\n",
              "      <td>2011</td>\n",
              "    </tr>\n",
              "    <tr>\n",
              "      <th>27053</th>\n",
              "      <td>27054</td>\n",
              "      <td>KEVIN LEE</td>\n",
              "      <td>TRANSIT OPERATOR</td>\n",
              "      <td>31501.33</td>\n",
              "      <td>5003.46</td>\n",
              "      <td>770.75</td>\n",
              "      <td>0.00</td>\n",
              "      <td>37275.54</td>\n",
              "      <td>37275.54</td>\n",
              "      <td>2011</td>\n",
              "    </tr>\n",
              "    <tr>\n",
              "      <th>39715</th>\n",
              "      <td>39716</td>\n",
              "      <td>Kevin Lee</td>\n",
              "      <td>Police Officer 3</td>\n",
              "      <td>115866.90</td>\n",
              "      <td>23523.30</td>\n",
              "      <td>9313.54</td>\n",
              "      <td>34906.20</td>\n",
              "      <td>148703.74</td>\n",
              "      <td>183609.94</td>\n",
              "      <td>2012</td>\n",
              "    </tr>\n",
              "    <tr>\n",
              "      <th>40570</th>\n",
              "      <td>40571</td>\n",
              "      <td>Kevin Lee</td>\n",
              "      <td>Police Officer 3</td>\n",
              "      <td>117171.41</td>\n",
              "      <td>19606.88</td>\n",
              "      <td>4244.90</td>\n",
              "      <td>34610.10</td>\n",
              "      <td>141023.19</td>\n",
              "      <td>175633.29</td>\n",
              "      <td>2012</td>\n",
              "    </tr>\n",
              "    <tr>\n",
              "      <th>42510</th>\n",
              "      <td>42511</td>\n",
              "      <td>Kevin Lee</td>\n",
              "      <td>Electrical Transit System Mech</td>\n",
              "      <td>79220.54</td>\n",
              "      <td>40247.39</td>\n",
              "      <td>3353.49</td>\n",
              "      <td>38781.04</td>\n",
              "      <td>122821.42</td>\n",
              "      <td>161602.46</td>\n",
              "      <td>2012</td>\n",
              "    </tr>\n",
              "    <tr>\n",
              "      <th>49270</th>\n",
              "      <td>49271</td>\n",
              "      <td>Kevin Lee</td>\n",
              "      <td>Deputy Court Clerk III</td>\n",
              "      <td>84512.32</td>\n",
              "      <td>0.00</td>\n",
              "      <td>1469.99</td>\n",
              "      <td>36080.30</td>\n",
              "      <td>85982.31</td>\n",
              "      <td>122062.61</td>\n",
              "      <td>2012</td>\n",
              "    </tr>\n",
              "    <tr>\n",
              "      <th>49439</th>\n",
              "      <td>49440</td>\n",
              "      <td>Kevin Lee</td>\n",
              "      <td>Deputy Court Clerk III</td>\n",
              "      <td>84512.34</td>\n",
              "      <td>0.00</td>\n",
              "      <td>975.44</td>\n",
              "      <td>35902.02</td>\n",
              "      <td>85487.78</td>\n",
              "      <td>121389.80</td>\n",
              "      <td>2012</td>\n",
              "    </tr>\n",
              "    <tr>\n",
              "      <th>50123</th>\n",
              "      <td>50124</td>\n",
              "      <td>Kevin Lee</td>\n",
              "      <td>Personnel Analyst</td>\n",
              "      <td>83382.00</td>\n",
              "      <td>0.00</td>\n",
              "      <td>0.00</td>\n",
              "      <td>35210.59</td>\n",
              "      <td>83382.00</td>\n",
              "      <td>118592.59</td>\n",
              "      <td>2012</td>\n",
              "    </tr>\n",
              "    <tr>\n",
              "      <th>52233</th>\n",
              "      <td>52234</td>\n",
              "      <td>Kevin Lee</td>\n",
              "      <td>Senior Parking Control Officer</td>\n",
              "      <td>66774.03</td>\n",
              "      <td>9599.08</td>\n",
              "      <td>1092.62</td>\n",
              "      <td>31902.38</td>\n",
              "      <td>77465.73</td>\n",
              "      <td>109368.11</td>\n",
              "      <td>2012</td>\n",
              "    </tr>\n",
              "    <tr>\n",
              "      <th>53931</th>\n",
              "      <td>53932</td>\n",
              "      <td>Kevin Lee</td>\n",
              "      <td>Transit Operator</td>\n",
              "      <td>57397.32</td>\n",
              "      <td>9989.83</td>\n",
              "      <td>1800.48</td>\n",
              "      <td>34577.54</td>\n",
              "      <td>69187.63</td>\n",
              "      <td>103765.17</td>\n",
              "      <td>2012</td>\n",
              "    </tr>\n",
              "    <tr>\n",
              "      <th>55119</th>\n",
              "      <td>55120</td>\n",
              "      <td>Kevin Lee</td>\n",
              "      <td>IS Administrator 2</td>\n",
              "      <td>68940.44</td>\n",
              "      <td>0.00</td>\n",
              "      <td>0.00</td>\n",
              "      <td>30650.48</td>\n",
              "      <td>68940.44</td>\n",
              "      <td>99590.92</td>\n",
              "      <td>2012</td>\n",
              "    </tr>\n",
              "    <tr>\n",
              "      <th>112385</th>\n",
              "      <td>112386</td>\n",
              "      <td>Kevin Lee</td>\n",
              "      <td>Sergeant 3</td>\n",
              "      <td>137982.14</td>\n",
              "      <td>18537.19</td>\n",
              "      <td>16039.62</td>\n",
              "      <td>43039.12</td>\n",
              "      <td>172558.95</td>\n",
              "      <td>215598.07</td>\n",
              "      <td>2014</td>\n",
              "    </tr>\n",
              "    <tr>\n",
              "      <th>123141</th>\n",
              "      <td>123142</td>\n",
              "      <td>Kevin Lee</td>\n",
              "      <td>IT Operations Support Admin IV</td>\n",
              "      <td>91606.03</td>\n",
              "      <td>0.00</td>\n",
              "      <td>1013.00</td>\n",
              "      <td>34109.61</td>\n",
              "      <td>92619.03</td>\n",
              "      <td>126728.64</td>\n",
              "      <td>2014</td>\n",
              "    </tr>\n",
              "    <tr>\n",
              "      <th>124165</th>\n",
              "      <td>124166</td>\n",
              "      <td>Kevin Lee</td>\n",
              "      <td>Personnel Analyst</td>\n",
              "      <td>88353.01</td>\n",
              "      <td>0.00</td>\n",
              "      <td>0.00</td>\n",
              "      <td>33172.33</td>\n",
              "      <td>88353.01</td>\n",
              "      <td>121525.34</td>\n",
              "      <td>2014</td>\n",
              "    </tr>\n",
              "    <tr>\n",
              "      <th>124658</th>\n",
              "      <td>124659</td>\n",
              "      <td>Kevin Lee</td>\n",
              "      <td>Transit Operator</td>\n",
              "      <td>67230.30</td>\n",
              "      <td>10961.25</td>\n",
              "      <td>4050.85</td>\n",
              "      <td>36777.83</td>\n",
              "      <td>82242.40</td>\n",
              "      <td>119020.23</td>\n",
              "      <td>2014</td>\n",
              "    </tr>\n",
              "  </tbody>\n",
              "</table>\n",
              "</div>"
            ],
            "text/plain": [
              "            Id EmployeeName  ... TotalPayBenefits  Year\n",
              "3824      3825    KEVIN LEE  ...        132837.90  2011\n",
              "4036      4037    KEVIN LEE  ...        131494.88  2011\n",
              "5279      5280    KEVIN LEE  ...        122818.61  2011\n",
              "13169    13170    KEVIN LEE  ...         84302.61  2011\n",
              "13419    13420    KEVIN LEE  ...         83560.00  2011\n",
              "15312    15313    KEVIN LEE  ...         76786.31  2011\n",
              "17163    17164    KEVIN LEE  ...         70955.55  2011\n",
              "17646    17647    KEVIN LEE  ...         69393.44  2011\n",
              "27053    27054    KEVIN LEE  ...         37275.54  2011\n",
              "39715    39716    Kevin Lee  ...        183609.94  2012\n",
              "40570    40571    Kevin Lee  ...        175633.29  2012\n",
              "42510    42511    Kevin Lee  ...        161602.46  2012\n",
              "49270    49271    Kevin Lee  ...        122062.61  2012\n",
              "49439    49440    Kevin Lee  ...        121389.80  2012\n",
              "50123    50124    Kevin Lee  ...        118592.59  2012\n",
              "52233    52234    Kevin Lee  ...        109368.11  2012\n",
              "53931    53932    Kevin Lee  ...        103765.17  2012\n",
              "55119    55120    Kevin Lee  ...         99590.92  2012\n",
              "112385  112386    Kevin Lee  ...        215598.07  2014\n",
              "123141  123142    Kevin Lee  ...        126728.64  2014\n",
              "124165  124166    Kevin Lee  ...        121525.34  2014\n",
              "124658  124659    Kevin Lee  ...        119020.23  2014\n",
              "\n",
              "[22 rows x 10 columns]"
            ]
          },
          "metadata": {
            "tags": []
          },
          "execution_count": 64
        }
      ]
    },
    {
      "cell_type": "markdown",
      "metadata": {
        "id": "zB_Fu1c9Pm1u",
        "colab_type": "text"
      },
      "source": [
        "*The names are duplicated because the data describes one person in different years or just because there are people who have same name. It's ok so we only need to uppercase all of the name to eliminate case sensitive.*\n",
        "\n",
        "*But there are definitely some duplication of Job Title, example `Police Officer 3` and `POLICE OFFICER III`*"
      ]
    },
    {
      "cell_type": "code",
      "metadata": {
        "id": "Ufw8QW-6Pm1u",
        "colab_type": "code",
        "colab": {}
      },
      "source": [
        "# Replace Name and Job Title with its uppercase\n",
        "# Fill the blanks\n",
        "sal['EmployeeName'] = sal['EmployeeName'].str.upper()\n",
        "sal['JobTitle'] = sal['JobTitle'].str.upper()"
      ],
      "execution_count": 0,
      "outputs": []
    },
    {
      "cell_type": "code",
      "metadata": {
        "id": "heSYToXzPm1x",
        "colab_type": "code",
        "outputId": "33e366b1-6c38-42d0-b8c0-8240c60ca934",
        "colab": {
          "base_uri": "https://localhost:8080/",
          "height": 1000
        }
      },
      "source": [
        "# Write a regular expression to select JobTitle that ends with a digit\n",
        "# Fill the blank\n",
        "sal['JobTitle'][sal['JobTitle'].str.contains('\\d$', regex=True)].value_counts()"
      ],
      "execution_count": 0,
      "outputs": [
        {
          "output_type": "execute_result",
          "data": {
            "text/plain": [
              "POLICE OFFICER 3                 2418\n",
              "POLICE OFFICER 2                 1141\n",
              "SERGEANT 3                       1047\n",
              "LIBRARIAN 1                       530\n",
              "HEALTH WORKER 3                   438\n",
              "HEALTH WORKER 2                   415\n",
              "INSPECTOR 3                       318\n",
              "LIEUTENANT 3                      303\n",
              "SECRETARY 2                       301\n",
              "LIBRARY TECHNICAL ASSISTANT 1     237\n",
              "LEGAL SECRETARY 1                 184\n",
              "EXECUTIVE SECRETARY 1             184\n",
              "EXECUTIVE SECRETARY 2             178\n",
              "HEALTH CARE BILLING CLERK 2       177\n",
              "LIBRARIAN 2                       174\n",
              "PLANNER 3                         174\n",
              "HEALTH PROGRAM COORDINATOR 3      167\n",
              "EMPLOYMENT & TRAINING SPEC 3      167\n",
              "HEALTH WORKER 1                   163\n",
              "SR. COMMUNITY DEVL SPC 1          148\n",
              "GENERAL LABORER SUPERVISOR 1      137\n",
              "SERGEANT 2                        131\n",
              "IS ADMINISTRATOR 2                113\n",
              "PLANNER 2                         106\n",
              "COMMUNICATIONS DISPATCHER 1       106\n",
              "CAPTAIN 3                         101\n",
              "ENGINEERING ASSOCIATE 1            99\n",
              "CONTRACT COMPLIANCE OFFICER 1      96\n",
              "LIBRARY TECHNICAL ASSISTANT 2      96\n",
              "COMMUNICATIONS DISPATCHER 2        88\n",
              "                                 ... \n",
              "TRNST POWER LINE WRK SPRV 2         3\n",
              "SHEET METAL WRK SUPERVISOR 2        3\n",
              "POWER PLANT SUPERVISOR 1            3\n",
              "ORTHOPEDIC TECHNICIAN 1             3\n",
              "SPECIAL ASSISTANT 15                3\n",
              "ORTHOPEDIC TECHNICIAN 2             3\n",
              "BD/COMM SECRETARY 3                 3\n",
              "PLUMBER SUPERVISOR 2                3\n",
              "SPECIALIST IN AGING 2               3\n",
              "SPECIAL ASSISTANT 21                3\n",
              "ELECTRIC MOTOR REPAIR SPRV 1        3\n",
              "SPECIAL ASSISTANT 14                3\n",
              "WHARFINGER 1                        3\n",
              "ORNAMENTAL IRON WRK SPRV 1          3\n",
              "EMPLOYMENT & TRAINING SPEC 6        3\n",
              "ASPHALT PLANT SUPERVISOR 1          3\n",
              "PAINTER SUPERVISOR 2                3\n",
              "ROOFER SUPERVISOR 1                 3\n",
              "GLAZIER SUPERVISOR 1                2\n",
              "SPECIAL ASSISTANT 16                2\n",
              "ENVIRONMENTAL HLTH TECH 2           2\n",
              "TRANSIT PAINT SHOP SPRV1            2\n",
              "WATER METER SHOP SUPERVISOR 1       2\n",
              "CEMENT FINISHER SUPERVISOR 2        2\n",
              "SPECIAL ASSISTANT 11                2\n",
              "SPECIAL ASSISTANT 18                1\n",
              "SPECIAL ASSISTANT 13                1\n",
              "CASHIER 3                           1\n",
              "ASST DIR CLINICAL SVCS 2            1\n",
              "SPECIAL ASSISTANT 8                 1\n",
              "Name: JobTitle, Length: 166, dtype: int64"
            ]
          },
          "metadata": {
            "tags": []
          },
          "execution_count": 67
        }
      ]
    },
    {
      "cell_type": "code",
      "metadata": {
        "id": "xaYYbPRPPm10",
        "colab_type": "code",
        "outputId": "ac48b0cd-ecb6-43c8-9349-b3baab090bbe",
        "colab": {
          "base_uri": "https://localhost:8080/",
          "height": 150
        }
      },
      "source": [
        "# Write a regex that count all JobTitle start with POLICE OFFICER\n",
        "# Fill the blank\n",
        "\n",
        "# sal['JobTitle'][sal['JobTitle'].str.contains('POLICE OFFICER', regex=True)].value_counts()\n",
        "sal['JobTitle'][sal['JobTitle'].str.startswith('POLICE OFFICER')].value_counts()"
      ],
      "execution_count": 0,
      "outputs": [
        {
          "output_type": "execute_result",
          "data": {
            "text/plain": [
              "POLICE OFFICER 3      2418\n",
              "POLICE OFFICER        1476\n",
              "POLICE OFFICER 2      1141\n",
              "POLICE OFFICER III     779\n",
              "POLICE OFFICER I       467\n",
              "POLICE OFFICER II      361\n",
              "Name: JobTitle, dtype: int64"
            ]
          },
          "metadata": {
            "tags": []
          },
          "execution_count": 70
        }
      ]
    },
    {
      "cell_type": "markdown",
      "metadata": {
        "id": "1u2obTwpT55c",
        "colab_type": "text"
      },
      "source": [
        "There are discrepancies on how those `JobTitle` are represented. For instance: `POLICE OFFICER II` is `POLICE OFFICER 2` and those should be treated equally.\n",
        "\n",
        "We'll modify this feature accordingly by transforming all the Roman numbers  to our every day numbers.\n"
      ]
    },
    {
      "cell_type": "code",
      "metadata": {
        "id": "V1eYSjo0Pm12",
        "colab_type": "code",
        "outputId": "b40cd9e0-709d-480b-d312-f76c7de60fd5",
        "colab": {
          "base_uri": "https://localhost:8080/",
          "height": 36
        }
      },
      "source": [
        "# This is a simple function to transform roman number\n",
        "def transform_roman(s):\n",
        "    d = {'I':1, 'II':2, 'III':3, 'IV':4, 'V':5, 'VI':6, 'VII':7, 'VIII':8, 'IX':9, 'X':10, \n",
        "        'XI':11, 'XII':12, 'XIII':13, 'XIV':14, 'XV':15, 'XVI':16, 'XVII':17, 'XVIII':18, 'XIX':19, 'XX':20}\n",
        "    \n",
        "    s_split = s.split()\n",
        "    if s_split[-1] in d.keys():\n",
        "        s_split[-1] = str(d[s_split[-1]])\n",
        "    return ' '.join(s_split)\n",
        "\n",
        "# Test it out\n",
        "transform_roman('POLICE OFFICER III')"
      ],
      "execution_count": 0,
      "outputs": [
        {
          "output_type": "execute_result",
          "data": {
            "text/plain": [
              "'POLICE OFFICER 3'"
            ]
          },
          "metadata": {
            "tags": []
          },
          "execution_count": 72
        }
      ]
    },
    {
      "cell_type": "code",
      "metadata": {
        "id": "2PX5dFaxPm14",
        "colab_type": "code",
        "colab": {}
      },
      "source": [
        "# Apply the function above to the column JobTitle\n",
        "# Fill the blank\n",
        "sal['JobTitle'] = sal['JobTitle'].apply(transform_roman)"
      ],
      "execution_count": 0,
      "outputs": []
    },
    {
      "cell_type": "code",
      "metadata": {
        "id": "UzifpiEpz8ty",
        "colab_type": "code",
        "outputId": "747ed435-c1b7-4ebe-f5f7-a93fdd3c89b0",
        "colab": {
          "base_uri": "https://localhost:8080/",
          "height": 112
        }
      },
      "source": [
        "sal['JobTitle'][sal['JobTitle'].str.startswith('POLICE OFFICER')].value_counts()"
      ],
      "execution_count": 0,
      "outputs": [
        {
          "output_type": "execute_result",
          "data": {
            "text/plain": [
              "POLICE OFFICER 3    3197\n",
              "POLICE OFFICER 2    1502\n",
              "POLICE OFFICER      1476\n",
              "POLICE OFFICER 1     467\n",
              "Name: JobTitle, dtype: int64"
            ]
          },
          "metadata": {
            "tags": []
          },
          "execution_count": 76
        }
      ]
    },
    {
      "cell_type": "markdown",
      "metadata": {
        "id": "Ikd1t-v3Pm17",
        "colab_type": "text"
      },
      "source": [
        "### Step 4 - EDA"
      ]
    },
    {
      "cell_type": "markdown",
      "metadata": {
        "id": "-dEBLw1uPm1-",
        "colab_type": "text"
      },
      "source": [
        "**Plot categorical data**"
      ]
    },
    {
      "cell_type": "code",
      "metadata": {
        "id": "_N-UF331Pm1-",
        "colab_type": "code",
        "outputId": "b4348649-6982-42e0-b09b-16cad665fddc",
        "colab": {}
      },
      "source": [
        "sns.countplot(x='Year', data=sal)\n",
        "\n"
      ],
      "execution_count": 0,
      "outputs": [
        {
          "output_type": "execute_result",
          "data": {
            "text/plain": [
              "<matplotlib.axes._subplots.AxesSubplot at 0x1a360d6240>"
            ]
          },
          "metadata": {
            "tags": []
          },
          "execution_count": 257
        },
        {
          "output_type": "display_data",
          "data": {
            "image/png": "[encoded data removed]",
            "text/plain": [
              "<Figure size 432x288 with 1 Axes>"
            ]
          },
          "metadata": {
            "tags": []
          }
        }
      ]
    },
    {
      "cell_type": "markdown",
      "metadata": {
        "id": "pGvAB5cNPm2D",
        "colab_type": "text"
      },
      "source": [
        "**Top 5 common job titles**"
      ]
    },
    {
      "cell_type": "code",
      "metadata": {
        "id": "3LrHbjpHPm2D",
        "colab_type": "code",
        "outputId": "aab332c2-9764-4042-8af7-0ecfd5814b14",
        "colab": {
          "base_uri": "https://localhost:8080/",
          "height": 269
        }
      },
      "source": [
        "# Fill the blanks \n",
        "sal['JobTitle'].value_counts().head().plot(kind='barh');"
      ],
      "execution_count": 0,
      "outputs": [
        {
          "output_type": "display_data",
          "data": {
            "image/png": "[encoded data removed]",
            "text/plain": [
              "<Figure size 432x288 with 1 Axes>"
            ]
          },
          "metadata": {
            "tags": []
          }
        }
      ]
    },
    {
      "cell_type": "markdown",
      "metadata": {
        "id": "JZvwnGZ-Pm2F",
        "colab_type": "text"
      },
      "source": [
        "**Distribution of numerical data**"
      ]
    },
    {
      "cell_type": "code",
      "metadata": {
        "id": "UnTkDE4NPm2F",
        "colab_type": "code",
        "outputId": "2cb6c949-b680-479c-8778-d85acdae5a1a",
        "colab": {
          "base_uri": "https://localhost:8080/",
          "height": 302
        }
      },
      "source": [
        "# Run this\n",
        "sns.distplot(sal['TotalPayBenefits'])"
      ],
      "execution_count": 0,
      "outputs": [
        {
          "output_type": "execute_result",
          "data": {
            "text/plain": [
              "<matplotlib.axes._subplots.AxesSubplot at 0x7f176165b7f0>"
            ]
          },
          "metadata": {
            "tags": []
          },
          "execution_count": 79
        },
        {
          "output_type": "display_data",
          "data": {
            "image/png": "[encoded data removed]",
            "text/plain": [
              "<Figure size 432x288 with 1 Axes>"
            ]
          },
          "metadata": {
            "tags": []
          }
        }
      ]
    },
    {
      "cell_type": "code",
      "metadata": {
        "id": "rS3lsmV4Pm2J",
        "colab_type": "code",
        "outputId": "c4c2c087-a1f4-4a5d-d751-1a335a40938b",
        "colab": {
          "base_uri": "https://localhost:8080/",
          "height": 269
        }
      },
      "source": [
        "# Histogram is sensitive with the bins, try some examples to prove that\n",
        "plt.hist(sal['TotalPayBenefits'], bins=50)\n",
        "plt.show()"
      ],
      "execution_count": 0,
      "outputs": [
        {
          "output_type": "display_data",
          "data": {
            "image/png": "[encoded data removed]",
            "text/plain": [
              "<Figure size 432x288 with 1 Axes>"
            ]
          },
          "metadata": {
            "tags": []
          }
        }
      ]
    },
    {
      "cell_type": "code",
      "metadata": {
        "colab_type": "code",
        "outputId": "1b549c00-3243-4a58-ad4b-d2ca48e810c4",
        "id": "OmY97JiBsn__",
        "colab": {
          "base_uri": "https://localhost:8080/",
          "height": 378
        }
      },
      "source": [
        "# Plot these diagrams in a dashboard with two rows and two columns\n",
        "# sns.kdeplot(sal['BasePay'])\n",
        "# sns.kdeplot(sal['OvertimePay'])\n",
        "# sns.kdeplot(sal['OtherPay'])\n",
        "# sns.kdeplot(sal['Benefits'])\n",
        "\n",
        "f, axes = plt.subplots(2, 2, figsize=(12, 6))\n",
        "\n",
        "# Your code here\n",
        "sns.kdeplot(sal['BasePay'], ax=axes[0,0])\n",
        "sns.kdeplot(sal['OvertimePay'], ax=axes[0,1])\n",
        "sns.kdeplot(sal['OtherPay'], ax=axes[1,0])\n",
        "sns.kdeplot(sal['Benefits'], ax=axes[1,1])\n",
        "\n",
        "plt.show()"
      ],
      "execution_count": 0,
      "outputs": [
        {
          "output_type": "display_data",
          "data": {
            "image/png": "[encoded data removed]",
            "text/plain": [
              "<Figure size 864x432 with 4 Axes>"
            ]
          },
          "metadata": {
            "tags": []
          }
        }
      ]
    },
    {
      "cell_type": "code",
      "metadata": {
        "id": "3bhCQzNfPm2S",
        "colab_type": "code",
        "outputId": "b17de944-7e9a-4bdc-b84b-da47831b1d18",
        "colab": {
          "base_uri": "https://localhost:8080/",
          "height": 392
        }
      },
      "source": [
        "# Plot these diagrams in a dashboard with one rows and two columns\n",
        "# sns.distplot(sal['TotalPay'])\n",
        "# sns.distplot(sal['TotalPayBenefits'])\n",
        "\n",
        "f, axes = plt.subplots(1, 2, figsize=(12, 6))\n",
        "\n",
        "# Your code here\n",
        "sns.distplot(sal['TotalPay'], ax=axes[0])\n",
        "sns.distplot(sal['TotalPayBenefits'], ax=axes[1])\n",
        "\n",
        "plt.show()"
      ],
      "execution_count": 0,
      "outputs": [
        {
          "output_type": "display_data",
          "data": {
            "image/png": "[encoded data removed]",
            "text/plain": [
              "<Figure size 864x432 with 2 Axes>"
            ]
          },
          "metadata": {
            "tags": []
          }
        }
      ]
    },
    {
      "cell_type": "markdown",
      "metadata": {
        "id": "AYQl8xQstFcl",
        "colab_type": "text"
      },
      "source": [
        "**Analize richest people**"
      ]
    },
    {
      "cell_type": "code",
      "metadata": {
        "id": "wnr3XVJYPm2U",
        "colab_type": "code",
        "outputId": "e56a40fd-5075-4652-e7e7-8466fee06329",
        "colab": {
          "base_uri": "https://localhost:8080/",
          "height": 1000
        }
      },
      "source": [
        "# Select people that have TotalPayBenefit greater than $300k\n",
        "\n",
        "sal[sal['TotalPayBenefits'] > 300000]"
      ],
      "execution_count": 0,
      "outputs": [
        {
          "output_type": "execute_result",
          "data": {
            "text/html": [
              "<div>\n",
              "<style scoped>\n",
              "    .dataframe tbody tr th:only-of-type {\n",
              "        vertical-align: middle;\n",
              "    }\n",
              "\n",
              "    .dataframe tbody tr th {\n",
              "        vertical-align: top;\n",
              "    }\n",
              "\n",
              "    .dataframe thead th {\n",
              "        text-align: right;\n",
              "    }\n",
              "</style>\n",
              "<table border=\"1\" class=\"dataframe\">\n",
              "  <thead>\n",
              "    <tr style=\"text-align: right;\">\n",
              "      <th></th>\n",
              "      <th>Id</th>\n",
              "      <th>EmployeeName</th>\n",
              "      <th>JobTitle</th>\n",
              "      <th>BasePay</th>\n",
              "      <th>OvertimePay</th>\n",
              "      <th>OtherPay</th>\n",
              "      <th>Benefits</th>\n",
              "      <th>TotalPay</th>\n",
              "      <th>TotalPayBenefits</th>\n",
              "      <th>Year</th>\n",
              "    </tr>\n",
              "  </thead>\n",
              "  <tbody>\n",
              "    <tr>\n",
              "      <th>0</th>\n",
              "      <td>1</td>\n",
              "      <td>NATHANIEL FORD</td>\n",
              "      <td>GENERAL MANAGER-METROPOLITAN TRANSIT AUTHORITY</td>\n",
              "      <td>167411.18</td>\n",
              "      <td>0.00</td>\n",
              "      <td>400184.25</td>\n",
              "      <td>0.00</td>\n",
              "      <td>567595.43</td>\n",
              "      <td>567595.43</td>\n",
              "      <td>2011</td>\n",
              "    </tr>\n",
              "    <tr>\n",
              "      <th>1</th>\n",
              "      <td>2</td>\n",
              "      <td>GARY JIMENEZ</td>\n",
              "      <td>CAPTAIN III (POLICE DEPARTMENT)</td>\n",
              "      <td>155966.02</td>\n",
              "      <td>245131.88</td>\n",
              "      <td>137811.38</td>\n",
              "      <td>0.00</td>\n",
              "      <td>538909.28</td>\n",
              "      <td>538909.28</td>\n",
              "      <td>2011</td>\n",
              "    </tr>\n",
              "    <tr>\n",
              "      <th>2</th>\n",
              "      <td>3</td>\n",
              "      <td>ALBERT PARDINI</td>\n",
              "      <td>CAPTAIN III (POLICE DEPARTMENT)</td>\n",
              "      <td>212739.13</td>\n",
              "      <td>106088.18</td>\n",
              "      <td>16452.60</td>\n",
              "      <td>0.00</td>\n",
              "      <td>335279.91</td>\n",
              "      <td>335279.91</td>\n",
              "      <td>2011</td>\n",
              "    </tr>\n",
              "    <tr>\n",
              "      <th>3</th>\n",
              "      <td>4</td>\n",
              "      <td>CHRISTOPHER CHONG</td>\n",
              "      <td>WIRE ROPE CABLE MAINTENANCE MECHANIC</td>\n",
              "      <td>77916.00</td>\n",
              "      <td>56120.71</td>\n",
              "      <td>198306.90</td>\n",
              "      <td>0.00</td>\n",
              "      <td>332343.61</td>\n",
              "      <td>332343.61</td>\n",
              "      <td>2011</td>\n",
              "    </tr>\n",
              "    <tr>\n",
              "      <th>4</th>\n",
              "      <td>5</td>\n",
              "      <td>PATRICK GARDNER</td>\n",
              "      <td>DEPUTY CHIEF OF DEPARTMENT,(FIRE DEPARTMENT)</td>\n",
              "      <td>134401.60</td>\n",
              "      <td>9737.00</td>\n",
              "      <td>182234.59</td>\n",
              "      <td>0.00</td>\n",
              "      <td>326373.19</td>\n",
              "      <td>326373.19</td>\n",
              "      <td>2011</td>\n",
              "    </tr>\n",
              "    <tr>\n",
              "      <th>5</th>\n",
              "      <td>6</td>\n",
              "      <td>DAVID SULLIVAN</td>\n",
              "      <td>ASSISTANT DEPUTY CHIEF 2</td>\n",
              "      <td>118602.00</td>\n",
              "      <td>8601.00</td>\n",
              "      <td>189082.74</td>\n",
              "      <td>0.00</td>\n",
              "      <td>316285.74</td>\n",
              "      <td>316285.74</td>\n",
              "      <td>2011</td>\n",
              "    </tr>\n",
              "    <tr>\n",
              "      <th>6</th>\n",
              "      <td>7</td>\n",
              "      <td>ALSON LEE</td>\n",
              "      <td>BATTALION CHIEF, (FIRE DEPARTMENT)</td>\n",
              "      <td>92492.01</td>\n",
              "      <td>89062.90</td>\n",
              "      <td>134426.14</td>\n",
              "      <td>0.00</td>\n",
              "      <td>315981.05</td>\n",
              "      <td>315981.05</td>\n",
              "      <td>2011</td>\n",
              "    </tr>\n",
              "    <tr>\n",
              "      <th>7</th>\n",
              "      <td>8</td>\n",
              "      <td>DAVID KUSHNER</td>\n",
              "      <td>DEPUTY DIRECTOR OF INVESTMENTS</td>\n",
              "      <td>256576.96</td>\n",
              "      <td>0.00</td>\n",
              "      <td>51322.50</td>\n",
              "      <td>0.00</td>\n",
              "      <td>307899.46</td>\n",
              "      <td>307899.46</td>\n",
              "      <td>2011</td>\n",
              "    </tr>\n",
              "    <tr>\n",
              "      <th>8</th>\n",
              "      <td>9</td>\n",
              "      <td>MICHAEL MORRIS</td>\n",
              "      <td>BATTALION CHIEF, (FIRE DEPARTMENT)</td>\n",
              "      <td>176932.64</td>\n",
              "      <td>86362.68</td>\n",
              "      <td>40132.23</td>\n",
              "      <td>0.00</td>\n",
              "      <td>303427.55</td>\n",
              "      <td>303427.55</td>\n",
              "      <td>2011</td>\n",
              "    </tr>\n",
              "    <tr>\n",
              "      <th>9</th>\n",
              "      <td>10</td>\n",
              "      <td>JOANNE HAYES-WHITE</td>\n",
              "      <td>CHIEF OF DEPARTMENT, (FIRE DEPARTMENT)</td>\n",
              "      <td>285262.00</td>\n",
              "      <td>0.00</td>\n",
              "      <td>17115.73</td>\n",
              "      <td>0.00</td>\n",
              "      <td>302377.73</td>\n",
              "      <td>302377.73</td>\n",
              "      <td>2011</td>\n",
              "    </tr>\n",
              "    <tr>\n",
              "      <th>36159</th>\n",
              "      <td>36160</td>\n",
              "      <td>GARY ALTENBERG</td>\n",
              "      <td>LIEUTENANT, FIRE SUPPRESSION</td>\n",
              "      <td>128808.87</td>\n",
              "      <td>220909.48</td>\n",
              "      <td>13126.31</td>\n",
              "      <td>44430.12</td>\n",
              "      <td>362844.66</td>\n",
              "      <td>407274.78</td>\n",
              "      <td>2012</td>\n",
              "    </tr>\n",
              "    <tr>\n",
              "      <th>36160</th>\n",
              "      <td>36161</td>\n",
              "      <td>GREGORY SUHR</td>\n",
              "      <td>CHIEF OF POLICE</td>\n",
              "      <td>302578.00</td>\n",
              "      <td>0.00</td>\n",
              "      <td>18974.11</td>\n",
              "      <td>69810.19</td>\n",
              "      <td>321552.11</td>\n",
              "      <td>391362.30</td>\n",
              "      <td>2012</td>\n",
              "    </tr>\n",
              "    <tr>\n",
              "      <th>36161</th>\n",
              "      <td>36162</td>\n",
              "      <td>KHOA TRINH</td>\n",
              "      <td>ELECTRONIC MAINTENANCE TECH</td>\n",
              "      <td>111921.00</td>\n",
              "      <td>146415.32</td>\n",
              "      <td>78057.41</td>\n",
              "      <td>53102.29</td>\n",
              "      <td>336393.73</td>\n",
              "      <td>389496.02</td>\n",
              "      <td>2012</td>\n",
              "    </tr>\n",
              "    <tr>\n",
              "      <th>36162</th>\n",
              "      <td>36163</td>\n",
              "      <td>JOANNE HAYES-WHITE</td>\n",
              "      <td>CHIEF, FIRE DEPARTMENT</td>\n",
              "      <td>296943.01</td>\n",
              "      <td>0.00</td>\n",
              "      <td>17816.59</td>\n",
              "      <td>72047.88</td>\n",
              "      <td>314759.60</td>\n",
              "      <td>386807.48</td>\n",
              "      <td>2012</td>\n",
              "    </tr>\n",
              "    <tr>\n",
              "      <th>36163</th>\n",
              "      <td>36164</td>\n",
              "      <td>FREDERICK BINKLEY</td>\n",
              "      <td>EMT/PARAMEDIC/FIREFIGHTER</td>\n",
              "      <td>126863.19</td>\n",
              "      <td>192424.49</td>\n",
              "      <td>17917.18</td>\n",
              "      <td>44438.25</td>\n",
              "      <td>337204.86</td>\n",
              "      <td>381643.11</td>\n",
              "      <td>2012</td>\n",
              "    </tr>\n",
              "    <tr>\n",
              "      <th>36164</th>\n",
              "      <td>36165</td>\n",
              "      <td>AMY HART</td>\n",
              "      <td>DEPT HEAD 5</td>\n",
              "      <td>271607.74</td>\n",
              "      <td>0.00</td>\n",
              "      <td>19782.03</td>\n",
              "      <td>84681.82</td>\n",
              "      <td>291389.77</td>\n",
              "      <td>376071.59</td>\n",
              "      <td>2012</td>\n",
              "    </tr>\n",
              "    <tr>\n",
              "      <th>36165</th>\n",
              "      <td>36166</td>\n",
              "      <td>EDWARD REISKIN</td>\n",
              "      <td>GEN MGR, PUBLIC TRNSP DEPT</td>\n",
              "      <td>294000.17</td>\n",
              "      <td>0.00</td>\n",
              "      <td>0.00</td>\n",
              "      <td>82001.94</td>\n",
              "      <td>294000.17</td>\n",
              "      <td>376002.11</td>\n",
              "      <td>2012</td>\n",
              "    </tr>\n",
              "    <tr>\n",
              "      <th>36166</th>\n",
              "      <td>36167</td>\n",
              "      <td>JOHN MARTIN</td>\n",
              "      <td>DEPT HEAD 5</td>\n",
              "      <td>287747.89</td>\n",
              "      <td>0.00</td>\n",
              "      <td>5274.57</td>\n",
              "      <td>81824.37</td>\n",
              "      <td>293022.46</td>\n",
              "      <td>374846.83</td>\n",
              "      <td>2012</td>\n",
              "    </tr>\n",
              "    <tr>\n",
              "      <th>36167</th>\n",
              "      <td>36168</td>\n",
              "      <td>JOHN GOLDBERG</td>\n",
              "      <td>CAPTAIN 3</td>\n",
              "      <td>104404.00</td>\n",
              "      <td>0.00</td>\n",
              "      <td>245999.41</td>\n",
              "      <td>24287.23</td>\n",
              "      <td>350403.41</td>\n",
              "      <td>374690.64</td>\n",
              "      <td>2012</td>\n",
              "    </tr>\n",
              "    <tr>\n",
              "      <th>36168</th>\n",
              "      <td>36169</td>\n",
              "      <td>DAVID FRANKLIN</td>\n",
              "      <td>ASST CHF OF DEPT (FIRE DEPT)</td>\n",
              "      <td>204032.52</td>\n",
              "      <td>85503.16</td>\n",
              "      <td>26193.09</td>\n",
              "      <td>58486.10</td>\n",
              "      <td>315728.77</td>\n",
              "      <td>374214.87</td>\n",
              "      <td>2012</td>\n",
              "    </tr>\n",
              "    <tr>\n",
              "      <th>36169</th>\n",
              "      <td>36170</td>\n",
              "      <td>BRENDAN WARD</td>\n",
              "      <td>BATTLION CHIEF, FIRE SUPPRESSI</td>\n",
              "      <td>174822.47</td>\n",
              "      <td>118215.58</td>\n",
              "      <td>28845.78</td>\n",
              "      <td>49648.09</td>\n",
              "      <td>321883.83</td>\n",
              "      <td>371531.92</td>\n",
              "      <td>2012</td>\n",
              "    </tr>\n",
              "    <tr>\n",
              "      <th>36170</th>\n",
              "      <td>36171</td>\n",
              "      <td>SAMSON LAI</td>\n",
              "      <td>BATTLION CHIEF, FIRE SUPPRESSI</td>\n",
              "      <td>174822.44</td>\n",
              "      <td>112731.28</td>\n",
              "      <td>28660.28</td>\n",
              "      <td>53249.56</td>\n",
              "      <td>316214.00</td>\n",
              "      <td>369463.56</td>\n",
              "      <td>2012</td>\n",
              "    </tr>\n",
              "    <tr>\n",
              "      <th>36171</th>\n",
              "      <td>36172</td>\n",
              "      <td>RUDY CASTELLANOS</td>\n",
              "      <td>BATTLION CHIEF, FIRE SUPPRESSI</td>\n",
              "      <td>176771.74</td>\n",
              "      <td>124413.13</td>\n",
              "      <td>15803.39</td>\n",
              "      <td>52320.90</td>\n",
              "      <td>316988.26</td>\n",
              "      <td>369309.16</td>\n",
              "      <td>2012</td>\n",
              "    </tr>\n",
              "    <tr>\n",
              "      <th>36172</th>\n",
              "      <td>36173</td>\n",
              "      <td>MARTY ROSS</td>\n",
              "      <td>BATTLION CHIEF, FIRE SUPPRESSI</td>\n",
              "      <td>174822.41</td>\n",
              "      <td>99623.51</td>\n",
              "      <td>36522.39</td>\n",
              "      <td>55353.92</td>\n",
              "      <td>310968.31</td>\n",
              "      <td>366322.23</td>\n",
              "      <td>2012</td>\n",
              "    </tr>\n",
              "    <tr>\n",
              "      <th>36173</th>\n",
              "      <td>36174</td>\n",
              "      <td>MARK KEARNEY</td>\n",
              "      <td>ASSISTANT DEPUTY CHIEF 2</td>\n",
              "      <td>124573.50</td>\n",
              "      <td>22599.60</td>\n",
              "      <td>180516.68</td>\n",
              "      <td>32381.00</td>\n",
              "      <td>327689.78</td>\n",
              "      <td>360070.78</td>\n",
              "      <td>2012</td>\n",
              "    </tr>\n",
              "    <tr>\n",
              "      <th>36174</th>\n",
              "      <td>36175</td>\n",
              "      <td>LEDA ROZIER</td>\n",
              "      <td>TRANSIT MANAGER 2</td>\n",
              "      <td>98211.01</td>\n",
              "      <td>0.00</td>\n",
              "      <td>200951.30</td>\n",
              "      <td>60285.44</td>\n",
              "      <td>299162.31</td>\n",
              "      <td>359447.75</td>\n",
              "      <td>2012</td>\n",
              "    </tr>\n",
              "    <tr>\n",
              "      <th>36175</th>\n",
              "      <td>36176</td>\n",
              "      <td>ELLEN MOFFATT</td>\n",
              "      <td>ASST MED EXAMINER</td>\n",
              "      <td>260528.26</td>\n",
              "      <td>3394.90</td>\n",
              "      <td>20400.00</td>\n",
              "      <td>73017.12</td>\n",
              "      <td>284323.16</td>\n",
              "      <td>357340.28</td>\n",
              "      <td>2012</td>\n",
              "    </tr>\n",
              "    <tr>\n",
              "      <th>36176</th>\n",
              "      <td>36177</td>\n",
              "      <td>RAYMOND GUZMAN</td>\n",
              "      <td>DEP CHF OF DEPT (FIRE DEPT)</td>\n",
              "      <td>244102.02</td>\n",
              "      <td>24204.66</td>\n",
              "      <td>20232.29</td>\n",
              "      <td>64702.72</td>\n",
              "      <td>288538.97</td>\n",
              "      <td>353241.69</td>\n",
              "      <td>2012</td>\n",
              "    </tr>\n",
              "    <tr>\n",
              "      <th>36177</th>\n",
              "      <td>36178</td>\n",
              "      <td>EDWARD HARRINGTON</td>\n",
              "      <td>EXECUTIVE CONTRACT EMPLOYEE</td>\n",
              "      <td>232815.01</td>\n",
              "      <td>0.00</td>\n",
              "      <td>51564.01</td>\n",
              "      <td>67667.09</td>\n",
              "      <td>284379.02</td>\n",
              "      <td>352046.11</td>\n",
              "      <td>2012</td>\n",
              "    </tr>\n",
              "    <tr>\n",
              "      <th>36178</th>\n",
              "      <td>36179</td>\n",
              "      <td>JUDY MELINEK</td>\n",
              "      <td>ASST MED EXAMINER</td>\n",
              "      <td>260528.15</td>\n",
              "      <td>377.21</td>\n",
              "      <td>18425.37</td>\n",
              "      <td>72286.35</td>\n",
              "      <td>279330.73</td>\n",
              "      <td>351617.08</td>\n",
              "      <td>2012</td>\n",
              "    </tr>\n",
              "    <tr>\n",
              "      <th>...</th>\n",
              "      <td>...</td>\n",
              "      <td>...</td>\n",
              "      <td>...</td>\n",
              "      <td>...</td>\n",
              "      <td>...</td>\n",
              "      <td>...</td>\n",
              "      <td>...</td>\n",
              "      <td>...</td>\n",
              "      <td>...</td>\n",
              "      <td>...</td>\n",
              "    </tr>\n",
              "    <tr>\n",
              "      <th>110592</th>\n",
              "      <td>110593</td>\n",
              "      <td>RAEMONA E WILLIAMS</td>\n",
              "      <td>BATTALION CHIEF, FIRE SUPPRESS</td>\n",
              "      <td>227252.87</td>\n",
              "      <td>2742.76</td>\n",
              "      <td>18620.41</td>\n",
              "      <td>65337.63</td>\n",
              "      <td>248616.04</td>\n",
              "      <td>313953.67</td>\n",
              "      <td>2014</td>\n",
              "    </tr>\n",
              "    <tr>\n",
              "      <th>110593</th>\n",
              "      <td>110594</td>\n",
              "      <td>ROMELIA C SCOTT</td>\n",
              "      <td>FIREFIGHTER</td>\n",
              "      <td>112703.73</td>\n",
              "      <td>134077.58</td>\n",
              "      <td>23626.96</td>\n",
              "      <td>43240.04</td>\n",
              "      <td>270408.27</td>\n",
              "      <td>313648.31</td>\n",
              "      <td>2014</td>\n",
              "    </tr>\n",
              "    <tr>\n",
              "      <th>110594</th>\n",
              "      <td>110595</td>\n",
              "      <td>GREGORY CORRALES</td>\n",
              "      <td>CAPTAIN 3</td>\n",
              "      <td>87324.00</td>\n",
              "      <td>0.00</td>\n",
              "      <td>199112.35</td>\n",
              "      <td>24960.45</td>\n",
              "      <td>286436.35</td>\n",
              "      <td>311396.80</td>\n",
              "      <td>2014</td>\n",
              "    </tr>\n",
              "    <tr>\n",
              "      <th>110595</th>\n",
              "      <td>110596</td>\n",
              "      <td>GEORGE FOURAS</td>\n",
              "      <td>SENIOR PHYSICIAN SPECIALIST</td>\n",
              "      <td>205331.77</td>\n",
              "      <td>0.00</td>\n",
              "      <td>41434.76</td>\n",
              "      <td>64305.43</td>\n",
              "      <td>246766.53</td>\n",
              "      <td>311071.96</td>\n",
              "      <td>2014</td>\n",
              "    </tr>\n",
              "    <tr>\n",
              "      <th>110596</th>\n",
              "      <td>110597</td>\n",
              "      <td>EMILIO CRUZ</td>\n",
              "      <td>EXECUTIVE CONTRACT EMPLOYEE</td>\n",
              "      <td>246928.40</td>\n",
              "      <td>0.00</td>\n",
              "      <td>0.00</td>\n",
              "      <td>63923.67</td>\n",
              "      <td>246928.40</td>\n",
              "      <td>310852.07</td>\n",
              "      <td>2014</td>\n",
              "    </tr>\n",
              "    <tr>\n",
              "      <th>110597</th>\n",
              "      <td>110598</td>\n",
              "      <td>DALE C CARNES</td>\n",
              "      <td>CAPTAIN, FIRE SUPPRESSION</td>\n",
              "      <td>230386.03</td>\n",
              "      <td>0.00</td>\n",
              "      <td>14512.16</td>\n",
              "      <td>64814.42</td>\n",
              "      <td>244898.19</td>\n",
              "      <td>309712.61</td>\n",
              "      <td>2014</td>\n",
              "    </tr>\n",
              "    <tr>\n",
              "      <th>110598</th>\n",
              "      <td>110599</td>\n",
              "      <td>TOMAS J ARAGON</td>\n",
              "      <td>MANAGER 8</td>\n",
              "      <td>226821.67</td>\n",
              "      <td>0.00</td>\n",
              "      <td>14569.23</td>\n",
              "      <td>68016.90</td>\n",
              "      <td>241390.90</td>\n",
              "      <td>309407.80</td>\n",
              "      <td>2014</td>\n",
              "    </tr>\n",
              "    <tr>\n",
              "      <th>110599</th>\n",
              "      <td>110600</td>\n",
              "      <td>LESLIE A DUBBIN</td>\n",
              "      <td>NURSING SUPERVISOR</td>\n",
              "      <td>199104.00</td>\n",
              "      <td>0.00</td>\n",
              "      <td>47099.71</td>\n",
              "      <td>62967.21</td>\n",
              "      <td>246203.71</td>\n",
              "      <td>309170.92</td>\n",
              "      <td>2014</td>\n",
              "    </tr>\n",
              "    <tr>\n",
              "      <th>110600</th>\n",
              "      <td>110601</td>\n",
              "      <td>CHARLES CRANE</td>\n",
              "      <td>BATTALION CHIEF, FIRE SUPPRESS</td>\n",
              "      <td>179464.22</td>\n",
              "      <td>39232.60</td>\n",
              "      <td>31782.54</td>\n",
              "      <td>58678.04</td>\n",
              "      <td>250479.36</td>\n",
              "      <td>309157.40</td>\n",
              "      <td>2014</td>\n",
              "    </tr>\n",
              "    <tr>\n",
              "      <th>110601</th>\n",
              "      <td>110602</td>\n",
              "      <td>MICHIE L WONG</td>\n",
              "      <td>LIEUT,FIRE PREV</td>\n",
              "      <td>230386.01</td>\n",
              "      <td>0.00</td>\n",
              "      <td>13823.16</td>\n",
              "      <td>64939.79</td>\n",
              "      <td>244209.17</td>\n",
              "      <td>309148.96</td>\n",
              "      <td>2014</td>\n",
              "    </tr>\n",
              "    <tr>\n",
              "      <th>110602</th>\n",
              "      <td>110603</td>\n",
              "      <td>IVAR C SATERO</td>\n",
              "      <td>DEP DIR 5</td>\n",
              "      <td>235462.09</td>\n",
              "      <td>0.00</td>\n",
              "      <td>0.00</td>\n",
              "      <td>73614.57</td>\n",
              "      <td>235462.09</td>\n",
              "      <td>309076.66</td>\n",
              "      <td>2014</td>\n",
              "    </tr>\n",
              "    <tr>\n",
              "      <th>110603</th>\n",
              "      <td>110604</td>\n",
              "      <td>ANA C SAMPERA</td>\n",
              "      <td>NURSING SUPERVISOR</td>\n",
              "      <td>205280.01</td>\n",
              "      <td>0.00</td>\n",
              "      <td>37590.20</td>\n",
              "      <td>65716.83</td>\n",
              "      <td>242870.21</td>\n",
              "      <td>308587.04</td>\n",
              "      <td>2014</td>\n",
              "    </tr>\n",
              "    <tr>\n",
              "      <th>110604</th>\n",
              "      <td>110605</td>\n",
              "      <td>JOHN A HICKEY</td>\n",
              "      <td>BATTALION CHIEF, FIRE SUPPRESS</td>\n",
              "      <td>177771.13</td>\n",
              "      <td>40640.32</td>\n",
              "      <td>30613.76</td>\n",
              "      <td>58498.47</td>\n",
              "      <td>249025.21</td>\n",
              "      <td>307523.68</td>\n",
              "      <td>2014</td>\n",
              "    </tr>\n",
              "    <tr>\n",
              "      <th>110605</th>\n",
              "      <td>110606</td>\n",
              "      <td>DENISE L NEWMAN</td>\n",
              "      <td>BATTALION CHIEF, FIRE SUPPRESS</td>\n",
              "      <td>179464.20</td>\n",
              "      <td>42739.00</td>\n",
              "      <td>25082.63</td>\n",
              "      <td>59634.58</td>\n",
              "      <td>247285.83</td>\n",
              "      <td>306920.41</td>\n",
              "      <td>2014</td>\n",
              "    </tr>\n",
              "    <tr>\n",
              "      <th>110606</th>\n",
              "      <td>110607</td>\n",
              "      <td>NELA C PONFERRADA</td>\n",
              "      <td>NURSING SUPERVISOR</td>\n",
              "      <td>205280.00</td>\n",
              "      <td>0.00</td>\n",
              "      <td>37590.20</td>\n",
              "      <td>62671.31</td>\n",
              "      <td>242870.20</td>\n",
              "      <td>305541.51</td>\n",
              "      <td>2014</td>\n",
              "    </tr>\n",
              "    <tr>\n",
              "      <th>110607</th>\n",
              "      <td>110608</td>\n",
              "      <td>JOHN S RAHAIM</td>\n",
              "      <td>DEPT HEAD 4</td>\n",
              "      <td>232489.33</td>\n",
              "      <td>0.00</td>\n",
              "      <td>0.00</td>\n",
              "      <td>72233.72</td>\n",
              "      <td>232489.33</td>\n",
              "      <td>304723.05</td>\n",
              "      <td>2014</td>\n",
              "    </tr>\n",
              "    <tr>\n",
              "      <th>110608</th>\n",
              "      <td>110609</td>\n",
              "      <td>TERENCE E WOO</td>\n",
              "      <td>FIREFIGHTER</td>\n",
              "      <td>111640.48</td>\n",
              "      <td>127698.35</td>\n",
              "      <td>21604.79</td>\n",
              "      <td>43610.42</td>\n",
              "      <td>260943.62</td>\n",
              "      <td>304554.04</td>\n",
              "      <td>2014</td>\n",
              "    </tr>\n",
              "    <tr>\n",
              "      <th>110609</th>\n",
              "      <td>110610</td>\n",
              "      <td>DENNIS J HERRERA</td>\n",
              "      <td>CITY ATTORNEY</td>\n",
              "      <td>231523.83</td>\n",
              "      <td>0.00</td>\n",
              "      <td>0.00</td>\n",
              "      <td>72593.84</td>\n",
              "      <td>231523.83</td>\n",
              "      <td>304117.67</td>\n",
              "      <td>2014</td>\n",
              "    </tr>\n",
              "    <tr>\n",
              "      <th>110610</th>\n",
              "      <td>110611</td>\n",
              "      <td>GERALD K MANSUR</td>\n",
              "      <td>EMT/PARAMEDIC/FIREFIGHTER</td>\n",
              "      <td>129037.14</td>\n",
              "      <td>111884.75</td>\n",
              "      <td>16129.63</td>\n",
              "      <td>47012.64</td>\n",
              "      <td>257051.52</td>\n",
              "      <td>304064.16</td>\n",
              "      <td>2014</td>\n",
              "    </tr>\n",
              "    <tr>\n",
              "      <th>110611</th>\n",
              "      <td>110612</td>\n",
              "      <td>MICHAEL I THOMPSON</td>\n",
              "      <td>BATTALION CHIEF, FIRE SUPPRESS</td>\n",
              "      <td>179464.22</td>\n",
              "      <td>50039.97</td>\n",
              "      <td>16160.22</td>\n",
              "      <td>57811.77</td>\n",
              "      <td>245664.41</td>\n",
              "      <td>303476.18</td>\n",
              "      <td>2014</td>\n",
              "    </tr>\n",
              "    <tr>\n",
              "      <th>110612</th>\n",
              "      <td>110613</td>\n",
              "      <td>REX J HALE</td>\n",
              "      <td>BATTALION CHIEF, FIRE SUPPRESS</td>\n",
              "      <td>179464.22</td>\n",
              "      <td>37039.89</td>\n",
              "      <td>26894.45</td>\n",
              "      <td>59996.26</td>\n",
              "      <td>243398.56</td>\n",
              "      <td>303394.82</td>\n",
              "      <td>2014</td>\n",
              "    </tr>\n",
              "    <tr>\n",
              "      <th>110613</th>\n",
              "      <td>110614</td>\n",
              "      <td>ALBERT YU</td>\n",
              "      <td>MANAGER 8</td>\n",
              "      <td>231435.01</td>\n",
              "      <td>0.00</td>\n",
              "      <td>0.00</td>\n",
              "      <td>71499.66</td>\n",
              "      <td>231435.01</td>\n",
              "      <td>302934.67</td>\n",
              "      <td>2014</td>\n",
              "    </tr>\n",
              "    <tr>\n",
              "      <th>110614</th>\n",
              "      <td>110615</td>\n",
              "      <td>SHANNON S HEINTZ</td>\n",
              "      <td>ANESTHETIST</td>\n",
              "      <td>213558.05</td>\n",
              "      <td>3773.32</td>\n",
              "      <td>18588.58</td>\n",
              "      <td>66844.67</td>\n",
              "      <td>235919.95</td>\n",
              "      <td>302764.62</td>\n",
              "      <td>2014</td>\n",
              "    </tr>\n",
              "    <tr>\n",
              "      <th>110615</th>\n",
              "      <td>110616</td>\n",
              "      <td>SAMUEL ROMERO</td>\n",
              "      <td>BATTALION CHIEF, FIRE SUPPRESS</td>\n",
              "      <td>179464.20</td>\n",
              "      <td>38802.15</td>\n",
              "      <td>24701.63</td>\n",
              "      <td>59547.42</td>\n",
              "      <td>242967.98</td>\n",
              "      <td>302515.40</td>\n",
              "      <td>2014</td>\n",
              "    </tr>\n",
              "    <tr>\n",
              "      <th>110616</th>\n",
              "      <td>110617</td>\n",
              "      <td>ALEXANDER CHEN</td>\n",
              "      <td>SENIOR PHYSICIAN SPECIALIST</td>\n",
              "      <td>198874.01</td>\n",
              "      <td>0.00</td>\n",
              "      <td>40826.32</td>\n",
              "      <td>62701.48</td>\n",
              "      <td>239700.33</td>\n",
              "      <td>302401.81</td>\n",
              "      <td>2014</td>\n",
              "    </tr>\n",
              "    <tr>\n",
              "      <th>110617</th>\n",
              "      <td>110618</td>\n",
              "      <td>JAY K DOWKE</td>\n",
              "      <td>POLICE OFFICER 3</td>\n",
              "      <td>100148.75</td>\n",
              "      <td>15716.42</td>\n",
              "      <td>152037.57</td>\n",
              "      <td>33847.07</td>\n",
              "      <td>267902.74</td>\n",
              "      <td>301749.81</td>\n",
              "      <td>2014</td>\n",
              "    </tr>\n",
              "    <tr>\n",
              "      <th>110618</th>\n",
              "      <td>110619</td>\n",
              "      <td>EDWARD Y CHU</td>\n",
              "      <td>LIEUTENANT, FIRE SUPPRESSION</td>\n",
              "      <td>129817.24</td>\n",
              "      <td>108123.01</td>\n",
              "      <td>16979.29</td>\n",
              "      <td>46748.39</td>\n",
              "      <td>254919.54</td>\n",
              "      <td>301667.93</td>\n",
              "      <td>2014</td>\n",
              "    </tr>\n",
              "    <tr>\n",
              "      <th>110619</th>\n",
              "      <td>110620</td>\n",
              "      <td>MATTHEW J MCNAUGHTON</td>\n",
              "      <td>ASST CHF OF DEPT (FIRE DEPT)</td>\n",
              "      <td>205480.80</td>\n",
              "      <td>0.00</td>\n",
              "      <td>29794.80</td>\n",
              "      <td>65881.22</td>\n",
              "      <td>235275.60</td>\n",
              "      <td>301156.82</td>\n",
              "      <td>2014</td>\n",
              "    </tr>\n",
              "    <tr>\n",
              "      <th>110620</th>\n",
              "      <td>110621</td>\n",
              "      <td>MADONNA P VALENCIA</td>\n",
              "      <td>MANAGER, DEPT PUBLIC HEALTH</td>\n",
              "      <td>201305.83</td>\n",
              "      <td>0.00</td>\n",
              "      <td>37292.77</td>\n",
              "      <td>62477.06</td>\n",
              "      <td>238598.60</td>\n",
              "      <td>301075.66</td>\n",
              "      <td>2014</td>\n",
              "    </tr>\n",
              "    <tr>\n",
              "      <th>110621</th>\n",
              "      <td>110622</td>\n",
              "      <td>ROSS B MIRKARIMI</td>\n",
              "      <td>SHERIFF (SFERS)</td>\n",
              "      <td>215629.23</td>\n",
              "      <td>0.00</td>\n",
              "      <td>12937.66</td>\n",
              "      <td>71962.27</td>\n",
              "      <td>228566.89</td>\n",
              "      <td>300529.16</td>\n",
              "      <td>2014</td>\n",
              "    </tr>\n",
              "  </tbody>\n",
              "</table>\n",
              "<p>289 rows × 10 columns</p>\n",
              "</div>"
            ],
            "text/plain": [
              "            Id          EmployeeName  ... TotalPayBenefits  Year\n",
              "0            1        NATHANIEL FORD  ...        567595.43  2011\n",
              "1            2          GARY JIMENEZ  ...        538909.28  2011\n",
              "2            3        ALBERT PARDINI  ...        335279.91  2011\n",
              "3            4     CHRISTOPHER CHONG  ...        332343.61  2011\n",
              "4            5       PATRICK GARDNER  ...        326373.19  2011\n",
              "5            6        DAVID SULLIVAN  ...        316285.74  2011\n",
              "6            7             ALSON LEE  ...        315981.05  2011\n",
              "7            8         DAVID KUSHNER  ...        307899.46  2011\n",
              "8            9        MICHAEL MORRIS  ...        303427.55  2011\n",
              "9           10    JOANNE HAYES-WHITE  ...        302377.73  2011\n",
              "36159    36160        GARY ALTENBERG  ...        407274.78  2012\n",
              "36160    36161          GREGORY SUHR  ...        391362.30  2012\n",
              "36161    36162            KHOA TRINH  ...        389496.02  2012\n",
              "36162    36163    JOANNE HAYES-WHITE  ...        386807.48  2012\n",
              "36163    36164     FREDERICK BINKLEY  ...        381643.11  2012\n",
              "36164    36165              AMY HART  ...        376071.59  2012\n",
              "36165    36166        EDWARD REISKIN  ...        376002.11  2012\n",
              "36166    36167           JOHN MARTIN  ...        374846.83  2012\n",
              "36167    36168         JOHN GOLDBERG  ...        374690.64  2012\n",
              "36168    36169        DAVID FRANKLIN  ...        374214.87  2012\n",
              "36169    36170          BRENDAN WARD  ...        371531.92  2012\n",
              "36170    36171            SAMSON LAI  ...        369463.56  2012\n",
              "36171    36172      RUDY CASTELLANOS  ...        369309.16  2012\n",
              "36172    36173            MARTY ROSS  ...        366322.23  2012\n",
              "36173    36174          MARK KEARNEY  ...        360070.78  2012\n",
              "36174    36175           LEDA ROZIER  ...        359447.75  2012\n",
              "36175    36176         ELLEN MOFFATT  ...        357340.28  2012\n",
              "36176    36177        RAYMOND GUZMAN  ...        353241.69  2012\n",
              "36177    36178     EDWARD HARRINGTON  ...        352046.11  2012\n",
              "36178    36179          JUDY MELINEK  ...        351617.08  2012\n",
              "...        ...                   ...  ...              ...   ...\n",
              "110592  110593    RAEMONA E WILLIAMS  ...        313953.67  2014\n",
              "110593  110594       ROMELIA C SCOTT  ...        313648.31  2014\n",
              "110594  110595      GREGORY CORRALES  ...        311396.80  2014\n",
              "110595  110596         GEORGE FOURAS  ...        311071.96  2014\n",
              "110596  110597           EMILIO CRUZ  ...        310852.07  2014\n",
              "110597  110598         DALE C CARNES  ...        309712.61  2014\n",
              "110598  110599        TOMAS J ARAGON  ...        309407.80  2014\n",
              "110599  110600       LESLIE A DUBBIN  ...        309170.92  2014\n",
              "110600  110601         CHARLES CRANE  ...        309157.40  2014\n",
              "110601  110602         MICHIE L WONG  ...        309148.96  2014\n",
              "110602  110603         IVAR C SATERO  ...        309076.66  2014\n",
              "110603  110604         ANA C SAMPERA  ...        308587.04  2014\n",
              "110604  110605         JOHN A HICKEY  ...        307523.68  2014\n",
              "110605  110606       DENISE L NEWMAN  ...        306920.41  2014\n",
              "110606  110607     NELA C PONFERRADA  ...        305541.51  2014\n",
              "110607  110608         JOHN S RAHAIM  ...        304723.05  2014\n",
              "110608  110609         TERENCE E WOO  ...        304554.04  2014\n",
              "110609  110610      DENNIS J HERRERA  ...        304117.67  2014\n",
              "110610  110611       GERALD K MANSUR  ...        304064.16  2014\n",
              "110611  110612    MICHAEL I THOMPSON  ...        303476.18  2014\n",
              "110612  110613            REX J HALE  ...        303394.82  2014\n",
              "110613  110614             ALBERT YU  ...        302934.67  2014\n",
              "110614  110615      SHANNON S HEINTZ  ...        302764.62  2014\n",
              "110615  110616         SAMUEL ROMERO  ...        302515.40  2014\n",
              "110616  110617        ALEXANDER CHEN  ...        302401.81  2014\n",
              "110617  110618           JAY K DOWKE  ...        301749.81  2014\n",
              "110618  110619          EDWARD Y CHU  ...        301667.93  2014\n",
              "110619  110620  MATTHEW J MCNAUGHTON  ...        301156.82  2014\n",
              "110620  110621    MADONNA P VALENCIA  ...        301075.66  2014\n",
              "110621  110622      ROSS B MIRKARIMI  ...        300529.16  2014\n",
              "\n",
              "[289 rows x 10 columns]"
            ]
          },
          "metadata": {
            "tags": []
          },
          "execution_count": 96
        }
      ]
    },
    {
      "cell_type": "code",
      "metadata": {
        "id": "Qc4DYmaNPm2Y",
        "colab_type": "code",
        "colab": {}
      },
      "source": [
        "def split_income_type(n):\n",
        "    if n < 1000:\n",
        "        return 'Retired'\n",
        "    elif n < 50000:\n",
        "        return 'Low Income'\n",
        "    elif n < 150000:\n",
        "        return 'Midrange'\n",
        "    elif n < 250000:\n",
        "        return 'High Income'\n",
        "    else:\n",
        "        return 'Millionaire'"
      ],
      "execution_count": 0,
      "outputs": []
    },
    {
      "cell_type": "code",
      "metadata": {
        "id": "ndS0LG9_tX0Y",
        "colab_type": "code",
        "colab": {}
      },
      "source": [
        "# Apply the function above to create a new column name IncomeType from TotalPayBenefits\n",
        "# Fill the blank\n",
        "sal['IncomeType'] = sal['TotalPayBenefits'].apply(split_income_type)"
      ],
      "execution_count": 0,
      "outputs": []
    },
    {
      "cell_type": "code",
      "metadata": {
        "id": "Uh8VVB1nPm2a",
        "colab_type": "code",
        "outputId": "f48367b9-b56a-4441-89d1-24f6ce70bdfc",
        "colab": {
          "base_uri": "https://localhost:8080/",
          "height": 302
        }
      },
      "source": [
        "sns.countplot(sal['IncomeType'])\n",
        "# What can you tell?"
      ],
      "execution_count": 0,
      "outputs": [
        {
          "output_type": "execute_result",
          "data": {
            "text/plain": [
              "<matplotlib.axes._subplots.AxesSubplot at 0x7f1761edddd8>"
            ]
          },
          "metadata": {
            "tags": []
          },
          "execution_count": 99
        },
        {
          "output_type": "display_data",
          "data": {
            "image/png": "[encoded data removed]",
            "text/plain": [
              "<Figure size 432x288 with 1 Axes>"
            ]
          },
          "metadata": {
            "tags": []
          }
        }
      ]
    },
    {
      "cell_type": "code",
      "metadata": {
        "id": "iQtknDUIPm2e",
        "colab_type": "code",
        "outputId": "78563215-b7bf-409c-d5de-712792c1d30e",
        "colab": {}
      },
      "source": [
        "# Pie chart\n",
        "labels = []\n",
        "sizes = []\n",
        "explode = []\n",
        "\n",
        "labels = sal['IncomeType'].value_counts().index\n",
        "for index, size in enumerate(sal['IncomeType'].value_counts()):\n",
        "    sizes.append(size)\n",
        "    if labels[index]=='Millionaire':\n",
        "        explode.append(0.2)\n",
        "    else: # add high income too?\n",
        "        explode.append(0)\n",
        " \n",
        "f, ax1 = plt.subplots()\n",
        "ax1.pie(sizes, explode=explode, labels=labels, autopct='%1.1f%%',\n",
        "        shadow=True, startangle=45)\n",
        "# Equal aspect ratio ensures that pie is drawn as a circle\n",
        "ax1.axis('equal')  \n",
        "plt.tight_layout()\n",
        "plt.show()"
      ],
      "execution_count": 0,
      "outputs": [
        {
          "output_type": "display_data",
          "data": {
            "image/png": "[encoded data removed]",
            "text/plain": [
              "<Figure size 432x288 with 1 Axes>"
            ]
          },
          "metadata": {
            "tags": []
          }
        }
      ]
    },
    {
      "cell_type": "code",
      "metadata": {
        "id": "pbAUA-kgPm20",
        "colab_type": "code",
        "outputId": "5d10030c-da6d-4af1-9885-ca7b3e94949e",
        "colab": {
          "base_uri": "https://localhost:8080/",
          "height": 580
        }
      },
      "source": [
        "# What is the top 10 Job Title of Millionaire\n",
        "# Fill the blank\n",
        "millionare_jobs = sal[sal['IncomeType']=='Millionaire'].groupby('JobTitle').mean()\n",
        "millionare_jobs.sort_values(by=['TotalPayBenefits'], ascending=False)['TotalPayBenefits'].head(10).plot(kind='bar')"
      ],
      "execution_count": 0,
      "outputs": [
        {
          "output_type": "execute_result",
          "data": {
            "text/plain": [
              "<matplotlib.axes._subplots.AxesSubplot at 0x7f17617b9b38>"
            ]
          },
          "metadata": {
            "tags": []
          },
          "execution_count": 101
        },
        {
          "output_type": "display_data",
          "data": {
            "image/png": "[encoded data removed]",
            "text/plain": [
              "<Figure size 432x288 with 1 Axes>"
            ]
          },
          "metadata": {
            "tags": []
          }
        }
      ]
    },
    {
      "cell_type": "code",
      "metadata": {
        "id": "5LNMS8DGPm22",
        "colab_type": "code",
        "outputId": "49076f67-3f4b-4990-aeb8-e28099bc17bc",
        "colab": {
          "base_uri": "https://localhost:8080/",
          "height": 444
        }
      },
      "source": [
        "# Find the name of 10 richest man\n",
        "# Your code here\n",
        "\n",
        "sal.sort_values(by='TotalPayBenefits', ascending=False).head(10)"
      ],
      "execution_count": 0,
      "outputs": [
        {
          "output_type": "execute_result",
          "data": {
            "text/html": [
              "<div>\n",
              "<style scoped>\n",
              "    .dataframe tbody tr th:only-of-type {\n",
              "        vertical-align: middle;\n",
              "    }\n",
              "\n",
              "    .dataframe tbody tr th {\n",
              "        vertical-align: top;\n",
              "    }\n",
              "\n",
              "    .dataframe thead th {\n",
              "        text-align: right;\n",
              "    }\n",
              "</style>\n",
              "<table border=\"1\" class=\"dataframe\">\n",
              "  <thead>\n",
              "    <tr style=\"text-align: right;\">\n",
              "      <th></th>\n",
              "      <th>Id</th>\n",
              "      <th>EmployeeName</th>\n",
              "      <th>JobTitle</th>\n",
              "      <th>BasePay</th>\n",
              "      <th>OvertimePay</th>\n",
              "      <th>OtherPay</th>\n",
              "      <th>Benefits</th>\n",
              "      <th>TotalPay</th>\n",
              "      <th>TotalPayBenefits</th>\n",
              "      <th>Year</th>\n",
              "      <th>IncomeType</th>\n",
              "    </tr>\n",
              "  </thead>\n",
              "  <tbody>\n",
              "    <tr>\n",
              "      <th>0</th>\n",
              "      <td>1</td>\n",
              "      <td>NATHANIEL FORD</td>\n",
              "      <td>GENERAL MANAGER-METROPOLITAN TRANSIT AUTHORITY</td>\n",
              "      <td>167411.18</td>\n",
              "      <td>0.00</td>\n",
              "      <td>400184.25</td>\n",
              "      <td>0.00</td>\n",
              "      <td>567595.43</td>\n",
              "      <td>567595.43</td>\n",
              "      <td>2011</td>\n",
              "      <td>Millionaire</td>\n",
              "    </tr>\n",
              "    <tr>\n",
              "      <th>1</th>\n",
              "      <td>2</td>\n",
              "      <td>GARY JIMENEZ</td>\n",
              "      <td>CAPTAIN III (POLICE DEPARTMENT)</td>\n",
              "      <td>155966.02</td>\n",
              "      <td>245131.88</td>\n",
              "      <td>137811.38</td>\n",
              "      <td>0.00</td>\n",
              "      <td>538909.28</td>\n",
              "      <td>538909.28</td>\n",
              "      <td>2011</td>\n",
              "      <td>Millionaire</td>\n",
              "    </tr>\n",
              "    <tr>\n",
              "      <th>110531</th>\n",
              "      <td>110532</td>\n",
              "      <td>DAVID SHINN</td>\n",
              "      <td>DEPUTY CHIEF 3</td>\n",
              "      <td>129150.01</td>\n",
              "      <td>0.00</td>\n",
              "      <td>342802.63</td>\n",
              "      <td>38780.04</td>\n",
              "      <td>471952.64</td>\n",
              "      <td>510732.68</td>\n",
              "      <td>2014</td>\n",
              "      <td>Millionaire</td>\n",
              "    </tr>\n",
              "    <tr>\n",
              "      <th>110532</th>\n",
              "      <td>110533</td>\n",
              "      <td>AMY P HART</td>\n",
              "      <td>ASST MED EXAMINER</td>\n",
              "      <td>318835.49</td>\n",
              "      <td>10712.95</td>\n",
              "      <td>60563.54</td>\n",
              "      <td>89540.23</td>\n",
              "      <td>390111.98</td>\n",
              "      <td>479652.21</td>\n",
              "      <td>2014</td>\n",
              "      <td>Millionaire</td>\n",
              "    </tr>\n",
              "    <tr>\n",
              "      <th>110533</th>\n",
              "      <td>110534</td>\n",
              "      <td>WILLIAM J COAKER JR.</td>\n",
              "      <td>CHIEF INVESTMENT OFFICER</td>\n",
              "      <td>257340.00</td>\n",
              "      <td>0.00</td>\n",
              "      <td>82313.70</td>\n",
              "      <td>96570.66</td>\n",
              "      <td>339653.70</td>\n",
              "      <td>436224.36</td>\n",
              "      <td>2014</td>\n",
              "      <td>Millionaire</td>\n",
              "    </tr>\n",
              "    <tr>\n",
              "      <th>72925</th>\n",
              "      <td>72926</td>\n",
              "      <td>GREGORY P SUHR</td>\n",
              "      <td>CHIEF OF POLICE</td>\n",
              "      <td>319275.01</td>\n",
              "      <td>0.00</td>\n",
              "      <td>20007.06</td>\n",
              "      <td>86533.21</td>\n",
              "      <td>339282.07</td>\n",
              "      <td>425815.28</td>\n",
              "      <td>2013</td>\n",
              "      <td>Millionaire</td>\n",
              "    </tr>\n",
              "    <tr>\n",
              "      <th>72926</th>\n",
              "      <td>72927</td>\n",
              "      <td>JOANNE M HAYES-WHITE</td>\n",
              "      <td>CHIEF, FIRE DEPARTMENT</td>\n",
              "      <td>313686.01</td>\n",
              "      <td>0.00</td>\n",
              "      <td>23236.00</td>\n",
              "      <td>85431.39</td>\n",
              "      <td>336922.01</td>\n",
              "      <td>422353.40</td>\n",
              "      <td>2013</td>\n",
              "      <td>Millionaire</td>\n",
              "    </tr>\n",
              "    <tr>\n",
              "      <th>110534</th>\n",
              "      <td>110535</td>\n",
              "      <td>GREGORY P SUHR</td>\n",
              "      <td>CHIEF OF POLICE</td>\n",
              "      <td>307450.04</td>\n",
              "      <td>0.00</td>\n",
              "      <td>19266.72</td>\n",
              "      <td>91302.46</td>\n",
              "      <td>326716.76</td>\n",
              "      <td>418019.22</td>\n",
              "      <td>2014</td>\n",
              "      <td>Millionaire</td>\n",
              "    </tr>\n",
              "    <tr>\n",
              "      <th>110535</th>\n",
              "      <td>110536</td>\n",
              "      <td>JOANNE M HAYES-WHITE</td>\n",
              "      <td>CHIEF, FIRE DEPARTMENT</td>\n",
              "      <td>302068.00</td>\n",
              "      <td>0.00</td>\n",
              "      <td>24165.44</td>\n",
              "      <td>91201.66</td>\n",
              "      <td>326233.44</td>\n",
              "      <td>417435.10</td>\n",
              "      <td>2014</td>\n",
              "      <td>Millionaire</td>\n",
              "    </tr>\n",
              "    <tr>\n",
              "      <th>110536</th>\n",
              "      <td>110537</td>\n",
              "      <td>ELLEN G MOFFATT</td>\n",
              "      <td>ASST MED EXAMINER</td>\n",
              "      <td>270222.04</td>\n",
              "      <td>6009.22</td>\n",
              "      <td>67956.20</td>\n",
              "      <td>71580.48</td>\n",
              "      <td>344187.46</td>\n",
              "      <td>415767.94</td>\n",
              "      <td>2014</td>\n",
              "      <td>Millionaire</td>\n",
              "    </tr>\n",
              "  </tbody>\n",
              "</table>\n",
              "</div>"
            ],
            "text/plain": [
              "            Id          EmployeeName  ...  Year   IncomeType\n",
              "0            1        NATHANIEL FORD  ...  2011  Millionaire\n",
              "1            2          GARY JIMENEZ  ...  2011  Millionaire\n",
              "110531  110532           DAVID SHINN  ...  2014  Millionaire\n",
              "110532  110533            AMY P HART  ...  2014  Millionaire\n",
              "110533  110534  WILLIAM J COAKER JR.  ...  2014  Millionaire\n",
              "72925    72926        GREGORY P SUHR  ...  2013  Millionaire\n",
              "72926    72927  JOANNE M HAYES-WHITE  ...  2013  Millionaire\n",
              "110534  110535        GREGORY P SUHR  ...  2014  Millionaire\n",
              "110535  110536  JOANNE M HAYES-WHITE  ...  2014  Millionaire\n",
              "110536  110537       ELLEN G MOFFATT  ...  2014  Millionaire\n",
              "\n",
              "[10 rows x 11 columns]"
            ]
          },
          "metadata": {
            "tags": []
          },
          "execution_count": 105
        }
      ]
    },
    {
      "cell_type": "code",
      "metadata": {
        "id": "kEvKnINX4tYx",
        "colab_type": "code",
        "outputId": "53789e8d-7f2b-4745-9686-89d29ae597c2",
        "colab": {
          "base_uri": "https://localhost:8080/",
          "height": 302
        }
      },
      "source": [
        "top10 = sal.sort_values(by='TotalPayBenefits', ascending=False).head(10)\n",
        "sns.barplot(x='TotalPayBenefits', y='EmployeeName', hue='Year', data=top10)"
      ],
      "execution_count": 0,
      "outputs": [
        {
          "output_type": "execute_result",
          "data": {
            "text/plain": [
              "<matplotlib.axes._subplots.AxesSubplot at 0x7f1761ceac18>"
            ]
          },
          "metadata": {
            "tags": []
          },
          "execution_count": 116
        },
        {
          "output_type": "display_data",
          "data": {
            "image/png": "[encoded data removed]",
            "text/plain": [
              "<Figure size 432x288 with 1 Axes>"
            ]
          },
          "metadata": {
            "tags": []
          }
        }
      ]
    },
    {
      "cell_type": "code",
      "metadata": {
        "id": "TDMwfQIfPm2-",
        "colab_type": "code",
        "outputId": "9df94fce-80ad-48e1-83fc-77236c09754f",
        "colab": {}
      },
      "source": [
        "# Analyze TotalPayBenefits of 10 richest man each Year\n",
        "# Your code here\n",
        "\n"
      ],
      "execution_count": 0,
      "outputs": [
        {
          "output_type": "execute_result",
          "data": {
            "text/plain": [
              "<matplotlib.axes._subplots.AxesSubplot at 0x1a36c84c88>"
            ]
          },
          "metadata": {
            "tags": []
          },
          "execution_count": 293
        },
        {
          "output_type": "display_data",
          "data": {
            "image/png": "[encoded data removed]",
            "text/plain": [
              "<Figure size 432x288 with 1 Axes>"
            ]
          },
          "metadata": {
            "tags": []
          }
        }
      ]
    },
    {
      "cell_type": "markdown",
      "metadata": {
        "id": "MoBgPjDiwhdV",
        "colab_type": "text"
      },
      "source": [
        "### You are awesome!!"
      ]
    }
  ]
}